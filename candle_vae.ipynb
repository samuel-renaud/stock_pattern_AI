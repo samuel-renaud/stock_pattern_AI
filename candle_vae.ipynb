{
 "cells": [
  {
   "cell_type": "markdown",
   "metadata": {},
   "source": [
    "<H3> In this notebooke we actually create the VAE and train on the stock chart images"
   ]
  },
  {
   "cell_type": "code",
   "execution_count": null,
   "metadata": {},
   "outputs": [],
   "source": [
    "import torch\n",
    "import numpy as np\n",
    "import matplotlib.pyplot as plt\n",
    "from torch.optim.lr_scheduler import StepLR\n",
    "\n",
    "data_input_dir='dataset//'\n",
    "image_count = 1\n",
    "\n",
    "#load image_count images as np arrays and convert to torch tensor\n",
    "dataset = torch.tensor(np.asarray([np.load(data_input_dir+'0-'+str(i)+'.npy') for i in range(image_count)]),dtype=torch.float)\n",
    "print(dataset.shape)\n",
    "\n",
    "\n",
    "\n",
    "\n"
   ]
  },
  {
   "cell_type": "markdown",
   "metadata": {},
   "source": [
    "<h3>Dataloader to create batches and shuffle the data"
   ]
  },
  {
   "cell_type": "code",
   "execution_count": null,
   "metadata": {},
   "outputs": [],
   "source": [
    "batch_size=10\n",
    "#sampler= torch.utils.data.RandomSampler(dataset)\n",
    "data_loader = torch.utils.data.DataLoader(dataset, batch_size=batch_size)"
   ]
  },
  {
   "cell_type": "code",
   "execution_count": null,
   "metadata": {},
   "outputs": [],
   "source": [
    "class AE(torch.nn.Module):\n",
    "  def __init__(self):\n",
    "    super(AE, self).__init__()\n",
    "    self.encoder = torch.nn.Sequential(\n",
    "        nn.Conv2d(3, 16, kernel_size=(2, 2), stride=(2),padding=1),\n",
    "        torch.nn.ReLU(),\n",
    "        nn.MaxPool2d(kernel_size=(2, 2), stride=(2),padding=1),\n",
    "        \n",
    "        nn.Conv2d(16, 8, kernel_size=(2, 2), stride=(1)),\n",
    "        torch.nn.ReLU(),\n",
    "        nn.MaxPool2d(kernel_size=(1, 1), stride=(1)),\n",
    "        \n",
    "        nn.Conv2d(8, 4, kernel_size=(1, 1), stride=(1)),\n",
    "        torch.nn.ReLU(),\n",
    "\n",
    "        nn.MaxPool2d(kernel_size=(1, 1), stride=(1))\n",
    "      )\n",
    "\n",
    "    self.decoder = torch.nn.Sequential(        \n",
    "        nn.Upsample(scale_factor=2, mode='nearest'),\n",
    "        nn.Conv2d(4, 8, kernel_size=(1, 1), stride=(1, 1),padding=1),\n",
    "        torch.nn.ReLU(),\n",
    "        nn.Upsample(scale_factor=2, mode='nearest'),\n",
    "        nn.Conv2d(8, 16, kernel_size=(2, 2), stride=(1, 1)),\n",
    "        torch.nn.ReLU(),\n",
    "        nn.Upsample(scale_factor=1, mode='nearest'),\n",
    "        nn.Conv2d(16, 3, kernel_size=(4, 4), stride=(1, 1))\n",
    "    )\n",
    "\n",
    "  def forward(self, x):\n",
    "    latent = self.encoder(x)\n",
    "    x_out = self.decoder(latent)\n",
    "    return x_out\n",
    "\n",
    "model = AE().to('cpu')\n",
    "\n",
    "print(dataset.shape)\n",
    "model(dataset).shape"
   ]
  },
  {
   "cell_type": "markdown",
   "metadata": {},
   "source": [
    "torch.cuda.empty_cache()"
   ]
  },
  {
   "cell_type": "code",
   "execution_count": null,
   "metadata": {},
   "outputs": [],
   "source": [
    "# Define the loss function and optimizer\n",
    "criterion = torch.nn.BCEWithLogitsLoss()\n",
    "lr=0.02\n",
    "optimizer = torch.optim.Adam(model.parameters(), lr=lr)\n",
    "scheduler = StepLR(optimizer, step_size=500, gamma=0.05)\n",
    "\n",
    "loss_list=[]\n",
    "# Train the model\n",
    "for epoch in range(5000):\n",
    "    for idx, (images) in enumerate(data_loader):\n",
    "        images.to('cpu')\n",
    "        output = model(images.to('cpu')).to('cpu')\n",
    "        loss = criterion(output, images.to('cpu'))\n",
    "\n",
    "        # Backward pass and optimization\n",
    "        optimizer.zero_grad()\n",
    "        loss.backward()\n",
    "        optimizer.step()\n",
    "        scheduler.step()\n",
    "        loss_list.append(loss.item())\n",
    "\n",
    "    # Print loss\n",
    "    if (epoch+1) % 10 == 0:\n",
    "        print(f'Epoch [{epoch+1}/10], Loss: {loss.item():.4f}')\n"
   ]
  },
  {
   "cell_type": "code",
   "execution_count": null,
   "metadata": {},
   "outputs": [],
   "source": [
    "import matplotlib.pyplot as plt\n",
    "plt.plot(loss_list)\n",
    "plt.title('Loss Curve')"
   ]
  },
  {
   "cell_type": "code",
   "execution_count": null,
   "metadata": {},
   "outputs": [],
   "source": [
    "torch.max(output[0])"
   ]
  },
  {
   "cell_type": "code",
   "execution_count": null,
   "metadata": {},
   "outputs": [],
   "source": [
    "import matplotlib.pyplot as plt\n",
    "for i in range(1):\n",
    "    plt.figure()\n",
    "    plt.imshow(output[i][2].to('cpu').detach())"
   ]
  },
  {
   "cell_type": "code",
   "execution_count": null,
   "metadata": {},
   "outputs": [],
   "source": [
    "np.save('test.npy',np.round(torch.sigmoid(output[0,:,:,:].to('cpu').detach())))\n",
    "np.save('test_real.npy',np.round(torch.sigmoid(images[0,:,:,:].to('cpu').detach())))"
   ]
  },
  {
   "cell_type": "code",
   "execution_count": null,
   "metadata": {},
   "outputs": [],
   "source": [
    "\n",
    "plt.title(\"Real\")\n",
    "plt.imshow(np.load('test_real.npy').transpose((1,2,0)), interpolation='none', aspect='auto')\n",
    "plt.show()\n",
    "\n",
    "plt.title(\"Rec\")\n",
    "plt.imshow(np.load('test.npy').transpose((1,2,0)), interpolation='none', aspect='auto')\n",
    "plt.show()\n"
   ]
  },
  {
   "cell_type": "code",
   "execution_count": null,
   "metadata": {},
   "outputs": [],
   "source": [
    "# testing new pics\n",
    "t2 = torch.tensor(np.asarray(np.load('dataset/0-123.npy')),dtype=torch.float)\n",
    "t2_p = np.round(torch.sigmoid(model(t2).to('cpu').detach()))\n",
    "\n",
    "np.save('test.npy',np.round(torch.sigmoid(t2_p.to('cpu').detach())))\n",
    "np.save('test_real.npy',np.round(torch.sigmoid(t2.to('cpu').detach())))\n",
    "\n",
    "\n",
    "plt.title(\"Real\")\n",
    "plt.imshow(np.load('test_real.npy').transpose((1,2,0)), interpolation='none', aspect='auto')\n",
    "plt.show()\n",
    "\n",
    "plt.title(\"Rec\")\n",
    "plt.imshow(np.load('test.npy').transpose((1,2,0)), interpolation='none', aspect='auto')\n",
    "plt.show()"
   ]
  },
  {
   "cell_type": "code",
   "execution_count": null,
   "metadata": {},
   "outputs": [],
   "source": [
    "a = torch.nn.Conv2d(3,100,kernel_size=(3),padding='same')\n",
    "b = torch.nn.ReLU()\n",
    "c = torch.nn.MaxPool2d((2,2))\n",
    "d = torch.nn.Conv2d(100,50,kernel_size=(3), padding='same')\n",
    "e = torch.nn.ReLU()\n",
    "f = torch.nn.MaxPool2d((2,2))\n",
    "g = torch.nn.Conv2d(50,50,kernel_size=(3), padding='same')\n",
    "h = torch.nn.ReLU()\n",
    "\n",
    "i = torch.nn.MaxPool2d((2,2))\n",
    "\n",
    "\n",
    "j = torch.nn.Conv2d(50,50,kernel_size=(3),padding='same')\n",
    "k = torch.nn.ConvTranspose2d(50,100,kernel_size=(3), padding='same')\n",
    "l = torch.nn.Conv2d(50,50,kernel_size=(3),padding='same')\n",
    "m = torch.nn.Upsample((2,2),mode='nearest')\n",
    "\n",
    "print(out_9.shape)\n",
    "print(out_10.shape)\n",
    "\n",
    "out_0 = a(dataset[0])\n",
    "out_1 = b(out_0)\n",
    "out_2 = c(out_1)\n",
    "out_3 = d(out_2)\n",
    "out_4 = e(out_3)\n",
    "out_5 = f(out_4)\n",
    "out_6 = g(out_5)\n",
    "out_7 = h(out_6)\n",
    "out_8 = i(out_7)\n",
    "out_9 = j(out_8)\n",
    "out_10 = k(out_9)\n",
    "# out_11 = j(out_10)\n",
    "# out_12 = k(out_11)\n",
    "\n",
    "\n",
    "\n",
    "print(out_9.shape)\n",
    "print(out_10.shape)\n",
    "# print(out_11.shape)\n",
    "# print(out_12.shape)"
   ]
  },
  {
   "cell_type": "code",
   "execution_count": null,
   "metadata": {},
   "outputs": [],
   "source": [
    "import matplotlib.pyplot as plt\n",
    "plt.figure()\n",
    "plt.imshow(out_0[9,0,:,:].detach())\n",
    "plt.figure()\n",
    "plt.imshow(out_1[9,0,:,:].detach())\n",
    "plt.figure()\n",
    "plt.imshow(out_2[9,0,:,:].detach())\n",
    "plt.figure(figsize=(10,10))\n",
    "#plt.imshow(flat_out_2[0,:].detach())\n",
    "plt.imshow(out_3.detach())"
   ]
  },
  {
   "cell_type": "code",
   "execution_count": null,
   "metadata": {},
   "outputs": [],
   "source": [
    "plt.figure()\n",
    "plt.imshow(up_0[0,0,:,:].detach())\n",
    "plt.figure()\n",
    "plt.imshow(up_1[0,0,:,:].detach())\n",
    "plt.figure()\n",
    "plt.imshow(up_2[0,0,:,:].detach())\n",
    "plt.figure()\n",
    "plt.imshow(up_3[0,0,:,:].detach())"
   ]
  }
 ],
 "metadata": {
  "kernelspec": {
   "display_name": "Python 3 (ipykernel)",
   "language": "python",
   "name": "python3"
  },
  "language_info": {
   "codemirror_mode": {
    "name": "ipython",
    "version": 3
   },
   "file_extension": ".py",
   "mimetype": "text/x-python",
   "name": "python",
   "nbconvert_exporter": "python",
   "pygments_lexer": "ipython3",
   "version": "3.9.7"
  },
  "vscode": {
   "interpreter": {
    "hash": "ca4abe89e1d2bfac00b51db37bc3e765493fea8bd3429652b1d0755ba04be6f3"
   }
  }
 },
 "nbformat": 4,
 "nbformat_minor": 2
}
