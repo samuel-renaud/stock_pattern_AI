{
 "cells": [
  {
   "cell_type": "code",
   "execution_count": 1,
   "id": "61fb6baa",
   "metadata": {},
   "outputs": [],
   "source": [
    "#%matplotlib inline"
   ]
  },
  {
   "cell_type": "code",
   "execution_count": 1,
   "id": "ea4b4d79",
   "metadata": {},
   "outputs": [
    {
     "data": {
      "text/plain": [
       "0    ATVI\n",
       "1    ADBE\n",
       "2     ADP\n",
       "3    ABNB\n",
       "4    ALGN\n",
       "Name: Ticker, dtype: object"
      ]
     },
     "execution_count": 1,
     "metadata": {},
     "output_type": "execute_result"
    }
   ],
   "source": [
    "import pandas as pd\n",
    "# pretty printing of pandas dataframe\n",
    "pd.set_option('expand_frame_repr', False)\n",
    "pd.set_option(\"display.max_rows\", None, \"display.max_columns\", None)\n",
    "\n",
    "# There are 4 tables on the Wikipedia page\n",
    "# we want the last table\n",
    "\n",
    "payload=pd.read_html('https://en.wikipedia.org/wiki/Nasdaq-100')\n",
    "first_table  = payload[0]\n",
    "second_table = payload[1]\n",
    "third_table  = payload[2]\n",
    "fourth_table = payload[4]\n",
    "\n",
    "tickers = fourth_table\n",
    "tickers['Ticker'][0:5]"
   ]
  },
  {
   "cell_type": "code",
   "execution_count": 2,
   "id": "beb537d8",
   "metadata": {},
   "outputs": [
    {
     "ename": "KeyboardInterrupt",
     "evalue": "",
     "output_type": "error",
     "traceback": [
      "\u001b[1;31m---------------------------------------------------------------------------\u001b[0m",
      "\u001b[1;31mKeyboardInterrupt\u001b[0m                         Traceback (most recent call last)",
      "Cell \u001b[1;32mIn[2], line 57\u001b[0m\n\u001b[0;32m     55\u001b[0m         Z \u001b[39m=\u001b[39m [np\u001b[39m.\u001b[39mflip(red_channel,axis\u001b[39m=\u001b[39m\u001b[39m0\u001b[39m), np\u001b[39m.\u001b[39mflip(green_channel,axis\u001b[39m=\u001b[39m\u001b[39m0\u001b[39m), np\u001b[39m.\u001b[39mflip(tails_channel,axis\u001b[39m=\u001b[39m\u001b[39m0\u001b[39m)]\n\u001b[0;32m     56\u001b[0m         \u001b[39mif\u001b[39;00m \u001b[39mnot\u001b[39;00m os\u001b[39m.\u001b[39mpath\u001b[39m.\u001b[39mexists(data_output_dir):os\u001b[39m.\u001b[39mmkdir(data_output_dir) \n\u001b[1;32m---> 57\u001b[0m         np\u001b[39m.\u001b[39;49msave(data_output_dir\u001b[39m+\u001b[39;49mvic_name,Z)\n\u001b[0;32m     58\u001b[0m \u001b[39m#         print(i)\u001b[39;00m\n\u001b[0;32m     59\u001b[0m \u001b[39m#     plt.figure(figsize = (10,10)) # create a 10 x 10 figure \u001b[39;00m\n\u001b[0;32m     60\u001b[0m \u001b[39m#     im = plt.imshow(np.dstack(Z), interpolation='none', aspect='auto')\u001b[39;00m\n",
      "File \u001b[1;32m<__array_function__ internals>:180\u001b[0m, in \u001b[0;36msave\u001b[1;34m(*args, **kwargs)\u001b[0m\n",
      "File \u001b[1;32me:\\Anaconda\\envs\\stocks\\lib\\site-packages\\numpy\\lib\\npyio.py:522\u001b[0m, in \u001b[0;36msave\u001b[1;34m(file, arr, allow_pickle, fix_imports)\u001b[0m\n\u001b[0;32m    520\u001b[0m \u001b[39mwith\u001b[39;00m file_ctx \u001b[39mas\u001b[39;00m fid:\n\u001b[0;32m    521\u001b[0m     arr \u001b[39m=\u001b[39m np\u001b[39m.\u001b[39masanyarray(arr)\n\u001b[1;32m--> 522\u001b[0m     \u001b[39mformat\u001b[39;49m\u001b[39m.\u001b[39;49mwrite_array(fid, arr, allow_pickle\u001b[39m=\u001b[39;49mallow_pickle,\n\u001b[0;32m    523\u001b[0m                        pickle_kwargs\u001b[39m=\u001b[39;49m\u001b[39mdict\u001b[39;49m(fix_imports\u001b[39m=\u001b[39;49mfix_imports))\n",
      "File \u001b[1;32me:\\Anaconda\\envs\\stocks\\lib\\site-packages\\numpy\\lib\\format.py:711\u001b[0m, in \u001b[0;36mwrite_array\u001b[1;34m(fp, array, version, allow_pickle, pickle_kwargs)\u001b[0m\n\u001b[0;32m    709\u001b[0m \u001b[39melse\u001b[39;00m:\n\u001b[0;32m    710\u001b[0m     \u001b[39mif\u001b[39;00m isfileobj(fp):\n\u001b[1;32m--> 711\u001b[0m         array\u001b[39m.\u001b[39;49mtofile(fp)\n\u001b[0;32m    712\u001b[0m     \u001b[39melse\u001b[39;00m:\n\u001b[0;32m    713\u001b[0m         \u001b[39mfor\u001b[39;00m chunk \u001b[39min\u001b[39;00m numpy\u001b[39m.\u001b[39mnditer(\n\u001b[0;32m    714\u001b[0m                 array, flags\u001b[39m=\u001b[39m[\u001b[39m'\u001b[39m\u001b[39mexternal_loop\u001b[39m\u001b[39m'\u001b[39m, \u001b[39m'\u001b[39m\u001b[39mbuffered\u001b[39m\u001b[39m'\u001b[39m, \u001b[39m'\u001b[39m\u001b[39mzerosize_ok\u001b[39m\u001b[39m'\u001b[39m],\n\u001b[0;32m    715\u001b[0m                 buffersize\u001b[39m=\u001b[39mbuffersize, order\u001b[39m=\u001b[39m\u001b[39m'\u001b[39m\u001b[39mC\u001b[39m\u001b[39m'\u001b[39m):\n",
      "\u001b[1;31mKeyboardInterrupt\u001b[0m: "
     ]
    }
   ],
   "source": [
    "import mplfinance as mpf\n",
    "import yfinance as yf\n",
    "import numpy as np\n",
    "import matplotlib.pyplot as plt\n",
    "import os\n",
    "\n",
    "data_output_dir='dataset//'\n",
    "\n",
    "for i in range(len(tickers)):\n",
    "    ticker = yf.Ticker(tickers['Ticker'][i])\n",
    "\n",
    "    # Get the historical market data for the ticker\n",
    "    df = ticker.history(period=\"60d\", interval='5m') #start='2020-01-23', end='2020-02-23')\n",
    "\n",
    "    mini_window_size = 13*8 #day's 27 candles/2\n",
    "    total_window_size = len(df) #how many data points do you have so it knows where to stop (think full chart)\n",
    "\n",
    "    for ii in range(total_window_size-mini_window_size+1):\n",
    "        df_day = df.iloc[:, : 4]\n",
    "        candle_df = df_day[ii:mini_window_size+ii]\n",
    "        \n",
    "        #min max norm\n",
    "        min_price = candle_df.min().min()\n",
    "        max_price = candle_df.max().max()\n",
    "        range_price = max_price - min_price\n",
    "        # normalize the data\n",
    "        candle_df = (candle_df - min_price) / range_price\n",
    "\n",
    "        mul = 1000 #max pixles per candle\n",
    "        r = 5 #sig figs to round\n",
    "        step = 12 #steps between each candle\n",
    "        counter = list(range(0,len(candle_df)*step,step))\n",
    "\n",
    "        tails_channel = np.zeros((mul,len(counter)*step))\n",
    "        green_channel = np.zeros((mul,len(counter)*step))\n",
    "        red_channel   = np.zeros((mul,len(counter)*step))\n",
    "\n",
    "        color=1\n",
    "\n",
    "        for iii in range(len(counter)):\n",
    "            Low = int(round(candle_df['Low'][iii],r)*mul)\n",
    "            Close = int(round(candle_df['Close'][iii],r)*mul)\n",
    "            Open = int(round(candle_df['Open'][iii],r)*mul)\n",
    "            High = int(round(candle_df['High'][iii],r)*mul)\n",
    "\n",
    "            if  Close > Open: #Green candle\n",
    "                tails_channel[Low:Open,counter[iii]]   = color\n",
    "                green_channel[Open:Close,counter[iii]] = color\n",
    "                tails_channel[Close:High,counter[iii]] = color\n",
    "            else: #Red candle\n",
    "                tails_channel[Low:Close,counter[iii]] = color\n",
    "                red_channel[Close:Open,counter[iii]]  = color\n",
    "                tails_channel[Open:High,counter[iii]] = color\n",
    "        vic_name = (str(i)+'-'+str(ii))\n",
    "        Z = [np.flip(red_channel,axis=0), np.flip(green_channel,axis=0), np.flip(tails_channel,axis=0)]\n",
    "        if not os.path.exists(data_output_dir):os.mkdir(data_output_dir) \n",
    "        np.save(data_output_dir+vic_name,Z)\n",
    "#         print(i)\n",
    "#     plt.figure(figsize = (10,10)) # create a 10 x 10 figure \n",
    "#     im = plt.imshow(np.dstack(Z), interpolation='none', aspect='auto')"
   ]
  },
  {
   "cell_type": "code",
   "execution_count": null,
   "id": "40d20ce8",
   "metadata": {},
   "outputs": [],
   "source": []
  }
 ],
 "metadata": {
  "kernelspec": {
   "display_name": "Python 3 (ipykernel)",
   "language": "python",
   "name": "python3"
  },
  "language_info": {
   "codemirror_mode": {
    "name": "ipython",
    "version": 3
   },
   "file_extension": ".py",
   "mimetype": "text/x-python",
   "name": "python",
   "nbconvert_exporter": "python",
   "pygments_lexer": "ipython3",
   "version": "3.9.7"
  },
  "vscode": {
   "interpreter": {
    "hash": "ca4abe89e1d2bfac00b51db37bc3e765493fea8bd3429652b1d0755ba04be6f3"
   }
  }
 },
 "nbformat": 4,
 "nbformat_minor": 5
}
