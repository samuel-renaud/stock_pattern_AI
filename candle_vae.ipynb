{
 "cells": [
  {
   "cell_type": "markdown",
   "metadata": {},
   "source": [
    "<H3> In this notebooke we actually create the VAE and train on the stock chart images"
   ]
  },
  {
   "cell_type": "code",
   "execution_count": 529,
   "metadata": {},
   "outputs": [
    {
     "name": "stdout",
     "output_type": "stream",
     "text": [
      "torch.Size([1, 3, 100, 100])\n"
     ]
    }
   ],
   "source": [
    "import torch\n",
    "import numpy as np\n",
    "import matplotlib.pyplot as plt\n",
    "from torch.optim.lr_scheduler import StepLR\n",
    "\n",
    "data_input_dir='dataset//'\n",
    "image_count = 1\n",
    "\n",
    "#load image_count images as np arrays and convert to torch tensor\n",
    "dataset = torch.tensor(np.asarray([np.load(data_input_dir+'0-'+str(i)+'.npy') for i in range(image_count)]),dtype=torch.float)\n",
    "print(dataset.shape)\n",
    "\n",
    "\n",
    "\n",
    "\n"
   ]
  },
  {
   "cell_type": "markdown",
   "metadata": {},
   "source": [
    "<h3>Dataloader to create batches and shuffle the data"
   ]
  },
  {
   "cell_type": "code",
   "execution_count": 530,
   "metadata": {},
   "outputs": [],
   "source": [
    "batch_size=10\n",
    "#sampler= torch.utils.data.RandomSampler(dataset)\n",
    "data_loader = torch.utils.data.DataLoader(dataset, batch_size=batch_size)"
   ]
  },
  {
   "cell_type": "code",
   "execution_count": 531,
   "metadata": {},
   "outputs": [
    {
     "name": "stdout",
     "output_type": "stream",
     "text": [
      "torch.Size([1, 3, 100, 100])\n"
     ]
    },
    {
     "data": {
      "text/plain": [
       "torch.Size([1, 3, 100, 100])"
      ]
     },
     "execution_count": 531,
     "metadata": {},
     "output_type": "execute_result"
    }
   ],
   "source": [
    "class AE(torch.nn.Module):\n",
    "  def __init__(self):\n",
    "    super(AE, self).__init__()\n",
    "    self.encoder = torch.nn.Sequential(\n",
    "        nn.Conv2d(3, 16, kernel_size=(2, 2), stride=(2),padding=1),\n",
    "        torch.nn.ReLU(),\n",
    "        nn.MaxPool2d(kernel_size=(2, 2), stride=(2),padding=1),\n",
    "        \n",
    "        nn.Conv2d(16, 8, kernel_size=(2, 2), stride=(1)),\n",
    "        torch.nn.ReLU(),\n",
    "        nn.MaxPool2d(kernel_size=(1, 1), stride=(1)),\n",
    "        \n",
    "        nn.Conv2d(8, 4, kernel_size=(1, 1), stride=(1)),\n",
    "        torch.nn.ReLU(),\n",
    "\n",
    "        nn.MaxPool2d(kernel_size=(1, 1), stride=(1))\n",
    "      )\n",
    "\n",
    "    self.decoder = torch.nn.Sequential(        \n",
    "        nn.Upsample(scale_factor=2, mode='nearest'),\n",
    "        nn.Conv2d(4, 8, kernel_size=(1, 1), stride=(1, 1),padding=1),\n",
    "        torch.nn.ReLU(),\n",
    "        nn.Upsample(scale_factor=2, mode='nearest'),\n",
    "        nn.Conv2d(8, 16, kernel_size=(2, 2), stride=(1, 1)),\n",
    "        torch.nn.ReLU(),\n",
    "        nn.Upsample(scale_factor=1, mode='nearest'),\n",
    "        nn.Conv2d(16, 3, kernel_size=(4, 4), stride=(1, 1))\n",
    "    )\n",
    "\n",
    "  def forward(self, x):\n",
    "    latent = self.encoder(x)\n",
    "    x_out = self.decoder(latent)\n",
    "    return x_out\n",
    "\n",
    "model = AE().to('cpu')\n",
    "\n",
    "print(dataset.shape)\n",
    "model(dataset).shape"
   ]
  },
  {
   "cell_type": "markdown",
   "metadata": {},
   "source": [
    "torch.cuda.empty_cache()"
   ]
  },
  {
   "cell_type": "code",
   "execution_count": 539,
   "metadata": {},
   "outputs": [
    {
     "name": "stdout",
     "output_type": "stream",
     "text": [
      "Epoch [10/10], Loss: 0.0628\n",
      "Epoch [20/10], Loss: 0.0499\n",
      "Epoch [30/10], Loss: 0.0408\n",
      "Epoch [40/10], Loss: 0.0385\n",
      "Epoch [50/10], Loss: 0.0358\n",
      "Epoch [60/10], Loss: 0.0342\n",
      "Epoch [70/10], Loss: 0.0334\n",
      "Epoch [80/10], Loss: 0.0329\n",
      "Epoch [90/10], Loss: 0.0325\n",
      "Epoch [100/10], Loss: 0.0322\n",
      "Epoch [110/10], Loss: 0.0320\n",
      "Epoch [120/10], Loss: 0.0318\n",
      "Epoch [130/10], Loss: 0.0317\n",
      "Epoch [140/10], Loss: 0.0315\n",
      "Epoch [150/10], Loss: 0.0314\n",
      "Epoch [160/10], Loss: 0.0314\n",
      "Epoch [170/10], Loss: 0.0311\n",
      "Epoch [180/10], Loss: 0.0311\n",
      "Epoch [190/10], Loss: 0.0316\n",
      "Epoch [200/10], Loss: 0.0311\n",
      "Epoch [210/10], Loss: 0.0308\n",
      "Epoch [220/10], Loss: 0.0306\n",
      "Epoch [230/10], Loss: 0.0305\n",
      "Epoch [240/10], Loss: 0.0303\n",
      "Epoch [250/10], Loss: 0.0302\n",
      "Epoch [260/10], Loss: 0.0306\n",
      "Epoch [270/10], Loss: 0.0309\n",
      "Epoch [280/10], Loss: 0.0303\n",
      "Epoch [290/10], Loss: 0.0302\n",
      "Epoch [300/10], Loss: 0.0297\n",
      "Epoch [310/10], Loss: 0.0305\n",
      "Epoch [320/10], Loss: 0.0392\n",
      "Epoch [330/10], Loss: 0.0341\n",
      "Epoch [340/10], Loss: 0.0322\n",
      "Epoch [350/10], Loss: 0.0315\n",
      "Epoch [360/10], Loss: 0.0310\n",
      "Epoch [370/10], Loss: 0.0312\n",
      "Epoch [380/10], Loss: 0.0305\n",
      "Epoch [390/10], Loss: 0.0307\n",
      "Epoch [400/10], Loss: 0.0307\n",
      "Epoch [410/10], Loss: 0.0304\n",
      "Epoch [420/10], Loss: 0.0305\n",
      "Epoch [430/10], Loss: 0.0301\n",
      "Epoch [440/10], Loss: 0.0302\n",
      "Epoch [450/10], Loss: 0.0302\n",
      "Epoch [460/10], Loss: 0.0309\n",
      "Epoch [470/10], Loss: 0.0301\n",
      "Epoch [480/10], Loss: 0.0297\n",
      "Epoch [490/10], Loss: 0.0296\n",
      "Epoch [500/10], Loss: 0.0295\n",
      "Epoch [510/10], Loss: 0.0293\n",
      "Epoch [520/10], Loss: 0.0293\n",
      "Epoch [530/10], Loss: 0.0293\n",
      "Epoch [540/10], Loss: 0.0293\n",
      "Epoch [550/10], Loss: 0.0292\n",
      "Epoch [560/10], Loss: 0.0292\n",
      "Epoch [570/10], Loss: 0.0292\n",
      "Epoch [580/10], Loss: 0.0292\n",
      "Epoch [590/10], Loss: 0.0292\n",
      "Epoch [600/10], Loss: 0.0292\n",
      "Epoch [610/10], Loss: 0.0292\n",
      "Epoch [620/10], Loss: 0.0292\n",
      "Epoch [630/10], Loss: 0.0292\n",
      "Epoch [640/10], Loss: 0.0292\n",
      "Epoch [650/10], Loss: 0.0292\n",
      "Epoch [660/10], Loss: 0.0292\n",
      "Epoch [670/10], Loss: 0.0292\n",
      "Epoch [680/10], Loss: 0.0291\n",
      "Epoch [690/10], Loss: 0.0291\n",
      "Epoch [700/10], Loss: 0.0291\n",
      "Epoch [710/10], Loss: 0.0291\n",
      "Epoch [720/10], Loss: 0.0291\n",
      "Epoch [730/10], Loss: 0.0291\n",
      "Epoch [740/10], Loss: 0.0291\n",
      "Epoch [750/10], Loss: 0.0291\n",
      "Epoch [760/10], Loss: 0.0291\n",
      "Epoch [770/10], Loss: 0.0291\n",
      "Epoch [780/10], Loss: 0.0291\n",
      "Epoch [790/10], Loss: 0.0291\n",
      "Epoch [800/10], Loss: 0.0291\n",
      "Epoch [810/10], Loss: 0.0291\n",
      "Epoch [820/10], Loss: 0.0291\n",
      "Epoch [830/10], Loss: 0.0291\n",
      "Epoch [840/10], Loss: 0.0290\n",
      "Epoch [850/10], Loss: 0.0290\n",
      "Epoch [860/10], Loss: 0.0290\n",
      "Epoch [870/10], Loss: 0.0290\n",
      "Epoch [880/10], Loss: 0.0290\n",
      "Epoch [890/10], Loss: 0.0290\n",
      "Epoch [900/10], Loss: 0.0290\n",
      "Epoch [910/10], Loss: 0.0290\n",
      "Epoch [920/10], Loss: 0.0290\n",
      "Epoch [930/10], Loss: 0.0290\n",
      "Epoch [940/10], Loss: 0.0290\n",
      "Epoch [950/10], Loss: 0.0290\n",
      "Epoch [960/10], Loss: 0.0290\n",
      "Epoch [970/10], Loss: 0.0290\n",
      "Epoch [980/10], Loss: 0.0290\n",
      "Epoch [990/10], Loss: 0.0290\n",
      "Epoch [1000/10], Loss: 0.0289\n",
      "Epoch [1010/10], Loss: 0.0289\n",
      "Epoch [1020/10], Loss: 0.0289\n",
      "Epoch [1030/10], Loss: 0.0289\n",
      "Epoch [1040/10], Loss: 0.0289\n",
      "Epoch [1050/10], Loss: 0.0289\n",
      "Epoch [1060/10], Loss: 0.0289\n",
      "Epoch [1070/10], Loss: 0.0289\n",
      "Epoch [1080/10], Loss: 0.0289\n",
      "Epoch [1090/10], Loss: 0.0289\n",
      "Epoch [1100/10], Loss: 0.0289\n",
      "Epoch [1110/10], Loss: 0.0289\n",
      "Epoch [1120/10], Loss: 0.0289\n",
      "Epoch [1130/10], Loss: 0.0289\n",
      "Epoch [1140/10], Loss: 0.0289\n",
      "Epoch [1150/10], Loss: 0.0289\n",
      "Epoch [1160/10], Loss: 0.0289\n",
      "Epoch [1170/10], Loss: 0.0289\n",
      "Epoch [1180/10], Loss: 0.0289\n",
      "Epoch [1190/10], Loss: 0.0289\n",
      "Epoch [1200/10], Loss: 0.0289\n",
      "Epoch [1210/10], Loss: 0.0289\n",
      "Epoch [1220/10], Loss: 0.0289\n",
      "Epoch [1230/10], Loss: 0.0289\n",
      "Epoch [1240/10], Loss: 0.0289\n",
      "Epoch [1250/10], Loss: 0.0289\n",
      "Epoch [1260/10], Loss: 0.0289\n",
      "Epoch [1270/10], Loss: 0.0289\n",
      "Epoch [1280/10], Loss: 0.0289\n",
      "Epoch [1290/10], Loss: 0.0289\n",
      "Epoch [1300/10], Loss: 0.0289\n",
      "Epoch [1310/10], Loss: 0.0289\n",
      "Epoch [1320/10], Loss: 0.0289\n",
      "Epoch [1330/10], Loss: 0.0289\n",
      "Epoch [1340/10], Loss: 0.0289\n",
      "Epoch [1350/10], Loss: 0.0289\n",
      "Epoch [1360/10], Loss: 0.0289\n",
      "Epoch [1370/10], Loss: 0.0289\n",
      "Epoch [1380/10], Loss: 0.0289\n",
      "Epoch [1390/10], Loss: 0.0289\n",
      "Epoch [1400/10], Loss: 0.0289\n",
      "Epoch [1410/10], Loss: 0.0289\n",
      "Epoch [1420/10], Loss: 0.0289\n",
      "Epoch [1430/10], Loss: 0.0289\n",
      "Epoch [1440/10], Loss: 0.0289\n",
      "Epoch [1450/10], Loss: 0.0289\n",
      "Epoch [1460/10], Loss: 0.0289\n",
      "Epoch [1470/10], Loss: 0.0289\n",
      "Epoch [1480/10], Loss: 0.0289\n",
      "Epoch [1490/10], Loss: 0.0289\n",
      "Epoch [1500/10], Loss: 0.0289\n",
      "Epoch [1510/10], Loss: 0.0289\n",
      "Epoch [1520/10], Loss: 0.0289\n",
      "Epoch [1530/10], Loss: 0.0289\n",
      "Epoch [1540/10], Loss: 0.0289\n",
      "Epoch [1550/10], Loss: 0.0289\n",
      "Epoch [1560/10], Loss: 0.0289\n",
      "Epoch [1570/10], Loss: 0.0289\n",
      "Epoch [1580/10], Loss: 0.0289\n",
      "Epoch [1590/10], Loss: 0.0289\n",
      "Epoch [1600/10], Loss: 0.0289\n",
      "Epoch [1610/10], Loss: 0.0289\n",
      "Epoch [1620/10], Loss: 0.0289\n",
      "Epoch [1630/10], Loss: 0.0289\n",
      "Epoch [1640/10], Loss: 0.0289\n",
      "Epoch [1650/10], Loss: 0.0289\n",
      "Epoch [1660/10], Loss: 0.0289\n",
      "Epoch [1670/10], Loss: 0.0289\n",
      "Epoch [1680/10], Loss: 0.0289\n",
      "Epoch [1690/10], Loss: 0.0289\n",
      "Epoch [1700/10], Loss: 0.0289\n",
      "Epoch [1710/10], Loss: 0.0289\n",
      "Epoch [1720/10], Loss: 0.0289\n",
      "Epoch [1730/10], Loss: 0.0289\n",
      "Epoch [1740/10], Loss: 0.0289\n",
      "Epoch [1750/10], Loss: 0.0289\n",
      "Epoch [1760/10], Loss: 0.0289\n",
      "Epoch [1770/10], Loss: 0.0289\n",
      "Epoch [1780/10], Loss: 0.0289\n",
      "Epoch [1790/10], Loss: 0.0289\n",
      "Epoch [1800/10], Loss: 0.0289\n",
      "Epoch [1810/10], Loss: 0.0289\n",
      "Epoch [1820/10], Loss: 0.0289\n",
      "Epoch [1830/10], Loss: 0.0289\n",
      "Epoch [1840/10], Loss: 0.0289\n",
      "Epoch [1850/10], Loss: 0.0289\n",
      "Epoch [1860/10], Loss: 0.0289\n",
      "Epoch [1870/10], Loss: 0.0289\n",
      "Epoch [1880/10], Loss: 0.0289\n",
      "Epoch [1890/10], Loss: 0.0289\n",
      "Epoch [1900/10], Loss: 0.0289\n",
      "Epoch [1910/10], Loss: 0.0289\n",
      "Epoch [1920/10], Loss: 0.0289\n",
      "Epoch [1930/10], Loss: 0.0289\n",
      "Epoch [1940/10], Loss: 0.0289\n",
      "Epoch [1950/10], Loss: 0.0289\n",
      "Epoch [1960/10], Loss: 0.0289\n",
      "Epoch [1970/10], Loss: 0.0289\n",
      "Epoch [1980/10], Loss: 0.0289\n",
      "Epoch [1990/10], Loss: 0.0289\n",
      "Epoch [2000/10], Loss: 0.0289\n",
      "Epoch [2010/10], Loss: 0.0289\n",
      "Epoch [2020/10], Loss: 0.0289\n",
      "Epoch [2030/10], Loss: 0.0289\n",
      "Epoch [2040/10], Loss: 0.0289\n",
      "Epoch [2050/10], Loss: 0.0289\n",
      "Epoch [2060/10], Loss: 0.0289\n",
      "Epoch [2070/10], Loss: 0.0289\n",
      "Epoch [2080/10], Loss: 0.0289\n",
      "Epoch [2090/10], Loss: 0.0289\n",
      "Epoch [2100/10], Loss: 0.0289\n",
      "Epoch [2110/10], Loss: 0.0289\n",
      "Epoch [2120/10], Loss: 0.0289\n",
      "Epoch [2130/10], Loss: 0.0289\n",
      "Epoch [2140/10], Loss: 0.0289\n",
      "Epoch [2150/10], Loss: 0.0289\n",
      "Epoch [2160/10], Loss: 0.0289\n",
      "Epoch [2170/10], Loss: 0.0289\n",
      "Epoch [2180/10], Loss: 0.0289\n",
      "Epoch [2190/10], Loss: 0.0289\n",
      "Epoch [2200/10], Loss: 0.0289\n",
      "Epoch [2210/10], Loss: 0.0289\n",
      "Epoch [2220/10], Loss: 0.0289\n",
      "Epoch [2230/10], Loss: 0.0289\n",
      "Epoch [2240/10], Loss: 0.0289\n",
      "Epoch [2250/10], Loss: 0.0289\n",
      "Epoch [2260/10], Loss: 0.0289\n",
      "Epoch [2270/10], Loss: 0.0289\n",
      "Epoch [2280/10], Loss: 0.0289\n",
      "Epoch [2290/10], Loss: 0.0289\n",
      "Epoch [2300/10], Loss: 0.0289\n",
      "Epoch [2310/10], Loss: 0.0289\n",
      "Epoch [2320/10], Loss: 0.0289\n",
      "Epoch [2330/10], Loss: 0.0289\n",
      "Epoch [2340/10], Loss: 0.0289\n",
      "Epoch [2350/10], Loss: 0.0289\n",
      "Epoch [2360/10], Loss: 0.0289\n",
      "Epoch [2370/10], Loss: 0.0289\n",
      "Epoch [2380/10], Loss: 0.0289\n",
      "Epoch [2390/10], Loss: 0.0289\n",
      "Epoch [2400/10], Loss: 0.0289\n",
      "Epoch [2410/10], Loss: 0.0289\n",
      "Epoch [2420/10], Loss: 0.0289\n",
      "Epoch [2430/10], Loss: 0.0289\n",
      "Epoch [2440/10], Loss: 0.0289\n",
      "Epoch [2450/10], Loss: 0.0289\n",
      "Epoch [2460/10], Loss: 0.0289\n",
      "Epoch [2470/10], Loss: 0.0289\n",
      "Epoch [2480/10], Loss: 0.0289\n",
      "Epoch [2490/10], Loss: 0.0289\n",
      "Epoch [2500/10], Loss: 0.0289\n",
      "Epoch [2510/10], Loss: 0.0289\n",
      "Epoch [2520/10], Loss: 0.0289\n",
      "Epoch [2530/10], Loss: 0.0289\n",
      "Epoch [2540/10], Loss: 0.0289\n",
      "Epoch [2550/10], Loss: 0.0289\n",
      "Epoch [2560/10], Loss: 0.0289\n",
      "Epoch [2570/10], Loss: 0.0289\n",
      "Epoch [2580/10], Loss: 0.0289\n",
      "Epoch [2590/10], Loss: 0.0289\n",
      "Epoch [2600/10], Loss: 0.0289\n",
      "Epoch [2610/10], Loss: 0.0289\n",
      "Epoch [2620/10], Loss: 0.0289\n",
      "Epoch [2630/10], Loss: 0.0289\n",
      "Epoch [2640/10], Loss: 0.0289\n",
      "Epoch [2650/10], Loss: 0.0289\n",
      "Epoch [2660/10], Loss: 0.0289\n",
      "Epoch [2670/10], Loss: 0.0289\n",
      "Epoch [2680/10], Loss: 0.0289\n",
      "Epoch [2690/10], Loss: 0.0289\n",
      "Epoch [2700/10], Loss: 0.0289\n",
      "Epoch [2710/10], Loss: 0.0289\n",
      "Epoch [2720/10], Loss: 0.0289\n",
      "Epoch [2730/10], Loss: 0.0289\n",
      "Epoch [2740/10], Loss: 0.0289\n",
      "Epoch [2750/10], Loss: 0.0289\n",
      "Epoch [2760/10], Loss: 0.0289\n",
      "Epoch [2770/10], Loss: 0.0289\n"
     ]
    },
    {
     "name": "stdout",
     "output_type": "stream",
     "text": [
      "Epoch [2780/10], Loss: 0.0289\n",
      "Epoch [2790/10], Loss: 0.0289\n",
      "Epoch [2800/10], Loss: 0.0289\n",
      "Epoch [2810/10], Loss: 0.0289\n",
      "Epoch [2820/10], Loss: 0.0289\n",
      "Epoch [2830/10], Loss: 0.0289\n",
      "Epoch [2840/10], Loss: 0.0289\n",
      "Epoch [2850/10], Loss: 0.0289\n",
      "Epoch [2860/10], Loss: 0.0289\n",
      "Epoch [2870/10], Loss: 0.0289\n",
      "Epoch [2880/10], Loss: 0.0289\n",
      "Epoch [2890/10], Loss: 0.0289\n",
      "Epoch [2900/10], Loss: 0.0289\n",
      "Epoch [2910/10], Loss: 0.0289\n",
      "Epoch [2920/10], Loss: 0.0289\n",
      "Epoch [2930/10], Loss: 0.0289\n",
      "Epoch [2940/10], Loss: 0.0289\n",
      "Epoch [2950/10], Loss: 0.0289\n",
      "Epoch [2960/10], Loss: 0.0289\n",
      "Epoch [2970/10], Loss: 0.0289\n",
      "Epoch [2980/10], Loss: 0.0289\n",
      "Epoch [2990/10], Loss: 0.0289\n",
      "Epoch [3000/10], Loss: 0.0289\n",
      "Epoch [3010/10], Loss: 0.0289\n",
      "Epoch [3020/10], Loss: 0.0289\n",
      "Epoch [3030/10], Loss: 0.0289\n",
      "Epoch [3040/10], Loss: 0.0289\n",
      "Epoch [3050/10], Loss: 0.0289\n",
      "Epoch [3060/10], Loss: 0.0289\n",
      "Epoch [3070/10], Loss: 0.0289\n",
      "Epoch [3080/10], Loss: 0.0289\n",
      "Epoch [3090/10], Loss: 0.0289\n",
      "Epoch [3100/10], Loss: 0.0289\n",
      "Epoch [3110/10], Loss: 0.0289\n",
      "Epoch [3120/10], Loss: 0.0289\n",
      "Epoch [3130/10], Loss: 0.0289\n",
      "Epoch [3140/10], Loss: 0.0289\n",
      "Epoch [3150/10], Loss: 0.0289\n",
      "Epoch [3160/10], Loss: 0.0289\n",
      "Epoch [3170/10], Loss: 0.0289\n",
      "Epoch [3180/10], Loss: 0.0289\n",
      "Epoch [3190/10], Loss: 0.0289\n",
      "Epoch [3200/10], Loss: 0.0289\n",
      "Epoch [3210/10], Loss: 0.0289\n",
      "Epoch [3220/10], Loss: 0.0289\n",
      "Epoch [3230/10], Loss: 0.0289\n",
      "Epoch [3240/10], Loss: 0.0289\n",
      "Epoch [3250/10], Loss: 0.0289\n",
      "Epoch [3260/10], Loss: 0.0289\n",
      "Epoch [3270/10], Loss: 0.0289\n",
      "Epoch [3280/10], Loss: 0.0289\n",
      "Epoch [3290/10], Loss: 0.0289\n",
      "Epoch [3300/10], Loss: 0.0289\n",
      "Epoch [3310/10], Loss: 0.0289\n",
      "Epoch [3320/10], Loss: 0.0289\n",
      "Epoch [3330/10], Loss: 0.0289\n",
      "Epoch [3340/10], Loss: 0.0289\n",
      "Epoch [3350/10], Loss: 0.0289\n",
      "Epoch [3360/10], Loss: 0.0289\n",
      "Epoch [3370/10], Loss: 0.0289\n",
      "Epoch [3380/10], Loss: 0.0289\n",
      "Epoch [3390/10], Loss: 0.0289\n",
      "Epoch [3400/10], Loss: 0.0289\n",
      "Epoch [3410/10], Loss: 0.0289\n",
      "Epoch [3420/10], Loss: 0.0289\n",
      "Epoch [3430/10], Loss: 0.0289\n",
      "Epoch [3440/10], Loss: 0.0289\n",
      "Epoch [3450/10], Loss: 0.0289\n",
      "Epoch [3460/10], Loss: 0.0289\n",
      "Epoch [3470/10], Loss: 0.0289\n",
      "Epoch [3480/10], Loss: 0.0289\n",
      "Epoch [3490/10], Loss: 0.0289\n",
      "Epoch [3500/10], Loss: 0.0289\n",
      "Epoch [3510/10], Loss: 0.0289\n",
      "Epoch [3520/10], Loss: 0.0289\n",
      "Epoch [3530/10], Loss: 0.0289\n",
      "Epoch [3540/10], Loss: 0.0289\n",
      "Epoch [3550/10], Loss: 0.0289\n",
      "Epoch [3560/10], Loss: 0.0289\n",
      "Epoch [3570/10], Loss: 0.0289\n",
      "Epoch [3580/10], Loss: 0.0289\n",
      "Epoch [3590/10], Loss: 0.0289\n",
      "Epoch [3600/10], Loss: 0.0289\n",
      "Epoch [3610/10], Loss: 0.0289\n",
      "Epoch [3620/10], Loss: 0.0289\n",
      "Epoch [3630/10], Loss: 0.0289\n",
      "Epoch [3640/10], Loss: 0.0289\n",
      "Epoch [3650/10], Loss: 0.0289\n",
      "Epoch [3660/10], Loss: 0.0289\n",
      "Epoch [3670/10], Loss: 0.0289\n",
      "Epoch [3680/10], Loss: 0.0289\n",
      "Epoch [3690/10], Loss: 0.0289\n",
      "Epoch [3700/10], Loss: 0.0289\n",
      "Epoch [3710/10], Loss: 0.0289\n",
      "Epoch [3720/10], Loss: 0.0289\n",
      "Epoch [3730/10], Loss: 0.0289\n",
      "Epoch [3740/10], Loss: 0.0289\n",
      "Epoch [3750/10], Loss: 0.0289\n",
      "Epoch [3760/10], Loss: 0.0289\n",
      "Epoch [3770/10], Loss: 0.0289\n",
      "Epoch [3780/10], Loss: 0.0289\n",
      "Epoch [3790/10], Loss: 0.0289\n",
      "Epoch [3800/10], Loss: 0.0289\n",
      "Epoch [3810/10], Loss: 0.0289\n",
      "Epoch [3820/10], Loss: 0.0289\n",
      "Epoch [3830/10], Loss: 0.0289\n",
      "Epoch [3840/10], Loss: 0.0289\n",
      "Epoch [3850/10], Loss: 0.0289\n",
      "Epoch [3860/10], Loss: 0.0289\n",
      "Epoch [3870/10], Loss: 0.0289\n",
      "Epoch [3880/10], Loss: 0.0289\n",
      "Epoch [3890/10], Loss: 0.0289\n",
      "Epoch [3900/10], Loss: 0.0289\n",
      "Epoch [3910/10], Loss: 0.0289\n",
      "Epoch [3920/10], Loss: 0.0289\n",
      "Epoch [3930/10], Loss: 0.0289\n",
      "Epoch [3940/10], Loss: 0.0289\n",
      "Epoch [3950/10], Loss: 0.0289\n",
      "Epoch [3960/10], Loss: 0.0289\n",
      "Epoch [3970/10], Loss: 0.0289\n",
      "Epoch [3980/10], Loss: 0.0289\n",
      "Epoch [3990/10], Loss: 0.0289\n",
      "Epoch [4000/10], Loss: 0.0289\n",
      "Epoch [4010/10], Loss: 0.0289\n",
      "Epoch [4020/10], Loss: 0.0289\n",
      "Epoch [4030/10], Loss: 0.0289\n",
      "Epoch [4040/10], Loss: 0.0289\n",
      "Epoch [4050/10], Loss: 0.0289\n",
      "Epoch [4060/10], Loss: 0.0289\n",
      "Epoch [4070/10], Loss: 0.0289\n",
      "Epoch [4080/10], Loss: 0.0289\n",
      "Epoch [4090/10], Loss: 0.0289\n",
      "Epoch [4100/10], Loss: 0.0289\n",
      "Epoch [4110/10], Loss: 0.0289\n",
      "Epoch [4120/10], Loss: 0.0289\n",
      "Epoch [4130/10], Loss: 0.0289\n",
      "Epoch [4140/10], Loss: 0.0289\n",
      "Epoch [4150/10], Loss: 0.0289\n",
      "Epoch [4160/10], Loss: 0.0289\n",
      "Epoch [4170/10], Loss: 0.0289\n",
      "Epoch [4180/10], Loss: 0.0289\n",
      "Epoch [4190/10], Loss: 0.0289\n",
      "Epoch [4200/10], Loss: 0.0289\n",
      "Epoch [4210/10], Loss: 0.0289\n",
      "Epoch [4220/10], Loss: 0.0289\n",
      "Epoch [4230/10], Loss: 0.0289\n",
      "Epoch [4240/10], Loss: 0.0289\n",
      "Epoch [4250/10], Loss: 0.0289\n",
      "Epoch [4260/10], Loss: 0.0289\n",
      "Epoch [4270/10], Loss: 0.0289\n",
      "Epoch [4280/10], Loss: 0.0289\n",
      "Epoch [4290/10], Loss: 0.0289\n",
      "Epoch [4300/10], Loss: 0.0289\n",
      "Epoch [4310/10], Loss: 0.0289\n",
      "Epoch [4320/10], Loss: 0.0289\n",
      "Epoch [4330/10], Loss: 0.0289\n",
      "Epoch [4340/10], Loss: 0.0289\n",
      "Epoch [4350/10], Loss: 0.0289\n",
      "Epoch [4360/10], Loss: 0.0289\n",
      "Epoch [4370/10], Loss: 0.0289\n",
      "Epoch [4380/10], Loss: 0.0289\n",
      "Epoch [4390/10], Loss: 0.0289\n",
      "Epoch [4400/10], Loss: 0.0289\n",
      "Epoch [4410/10], Loss: 0.0289\n",
      "Epoch [4420/10], Loss: 0.0289\n",
      "Epoch [4430/10], Loss: 0.0289\n",
      "Epoch [4440/10], Loss: 0.0289\n",
      "Epoch [4450/10], Loss: 0.0289\n",
      "Epoch [4460/10], Loss: 0.0289\n",
      "Epoch [4470/10], Loss: 0.0289\n",
      "Epoch [4480/10], Loss: 0.0289\n",
      "Epoch [4490/10], Loss: 0.0289\n",
      "Epoch [4500/10], Loss: 0.0289\n",
      "Epoch [4510/10], Loss: 0.0289\n",
      "Epoch [4520/10], Loss: 0.0289\n",
      "Epoch [4530/10], Loss: 0.0289\n",
      "Epoch [4540/10], Loss: 0.0289\n",
      "Epoch [4550/10], Loss: 0.0289\n",
      "Epoch [4560/10], Loss: 0.0289\n",
      "Epoch [4570/10], Loss: 0.0289\n",
      "Epoch [4580/10], Loss: 0.0289\n",
      "Epoch [4590/10], Loss: 0.0289\n",
      "Epoch [4600/10], Loss: 0.0289\n",
      "Epoch [4610/10], Loss: 0.0289\n",
      "Epoch [4620/10], Loss: 0.0289\n",
      "Epoch [4630/10], Loss: 0.0289\n",
      "Epoch [4640/10], Loss: 0.0289\n",
      "Epoch [4650/10], Loss: 0.0289\n",
      "Epoch [4660/10], Loss: 0.0289\n",
      "Epoch [4670/10], Loss: 0.0289\n",
      "Epoch [4680/10], Loss: 0.0289\n",
      "Epoch [4690/10], Loss: 0.0289\n",
      "Epoch [4700/10], Loss: 0.0289\n",
      "Epoch [4710/10], Loss: 0.0289\n",
      "Epoch [4720/10], Loss: 0.0289\n",
      "Epoch [4730/10], Loss: 0.0289\n",
      "Epoch [4740/10], Loss: 0.0289\n",
      "Epoch [4750/10], Loss: 0.0289\n",
      "Epoch [4760/10], Loss: 0.0289\n",
      "Epoch [4770/10], Loss: 0.0289\n",
      "Epoch [4780/10], Loss: 0.0289\n",
      "Epoch [4790/10], Loss: 0.0289\n",
      "Epoch [4800/10], Loss: 0.0289\n",
      "Epoch [4810/10], Loss: 0.0289\n",
      "Epoch [4820/10], Loss: 0.0289\n",
      "Epoch [4830/10], Loss: 0.0289\n",
      "Epoch [4840/10], Loss: 0.0289\n",
      "Epoch [4850/10], Loss: 0.0289\n",
      "Epoch [4860/10], Loss: 0.0289\n",
      "Epoch [4870/10], Loss: 0.0289\n",
      "Epoch [4880/10], Loss: 0.0289\n",
      "Epoch [4890/10], Loss: 0.0289\n",
      "Epoch [4900/10], Loss: 0.0289\n",
      "Epoch [4910/10], Loss: 0.0289\n",
      "Epoch [4920/10], Loss: 0.0289\n",
      "Epoch [4930/10], Loss: 0.0289\n",
      "Epoch [4940/10], Loss: 0.0289\n",
      "Epoch [4950/10], Loss: 0.0289\n",
      "Epoch [4960/10], Loss: 0.0289\n",
      "Epoch [4970/10], Loss: 0.0289\n",
      "Epoch [4980/10], Loss: 0.0289\n",
      "Epoch [4990/10], Loss: 0.0289\n",
      "Epoch [5000/10], Loss: 0.0289\n"
     ]
    }
   ],
   "source": [
    "# Define the loss function and optimizer\n",
    "criterion = torch.nn.BCEWithLogitsLoss()\n",
    "lr=0.02\n",
    "optimizer = torch.optim.Adam(model.parameters(), lr=lr)\n",
    "scheduler = StepLR(optimizer, step_size=500, gamma=0.05)\n",
    "\n",
    "loss_list=[]\n",
    "# Train the model\n",
    "for epoch in range(5000):\n",
    "    for idx, (images) in enumerate(data_loader):\n",
    "        images.to('cpu')\n",
    "        output = model(images.to('cpu')).to('cpu')\n",
    "        loss = criterion(output, images.to('cpu'))\n",
    "\n",
    "        # Backward pass and optimization\n",
    "        optimizer.zero_grad()\n",
    "        loss.backward()\n",
    "        optimizer.step()\n",
    "        scheduler.step()\n",
    "        loss_list.append(loss.item())\n",
    "\n",
    "    # Print loss\n",
    "    if (epoch+1) % 10 == 0:\n",
    "        print(f'Epoch [{epoch+1}/10], Loss: {loss.item():.4f}')\n"
   ]
  },
  {
   "cell_type": "code",
   "execution_count": 540,
   "metadata": {},
   "outputs": [
    {
     "data": {
      "text/plain": [
       "Text(0.5, 1.0, 'Loss Curve')"
      ]
     },
     "execution_count": 540,
     "metadata": {},
     "output_type": "execute_result"
    },
    {
     "data": {
      "image/png": "[encoded data removed]",
      "text/plain": [
       "<Figure size 432x288 with 1 Axes>"
      ]
     },
     "metadata": {
      "needs_background": "light"
     },
     "output_type": "display_data"
    }
   ],
   "source": [
    "import matplotlib.pyplot as plt\n",
    "plt.plot(loss_list)\n",
    "plt.title('Loss Curve')"
   ]
  },
  {
   "cell_type": "code",
   "execution_count": 541,
   "metadata": {},
   "outputs": [
    {
     "data": {
      "text/plain": [
       "tensor(24.7572, grad_fn=<MaxBackward1>)"
      ]
     },
     "execution_count": 541,
     "metadata": {},
     "output_type": "execute_result"
    }
   ],
   "source": [
    "torch.max(output[0])"
   ]
  },
  {
   "cell_type": "code",
   "execution_count": 542,
   "metadata": {},
   "outputs": [
    {
     "data": {
      "image/png": "[encoded data removed]",
      "text/plain": [
       "<Figure size 432x288 with 1 Axes>"
      ]
     },
     "metadata": {
      "needs_background": "light"
     },
     "output_type": "display_data"
    }
   ],
   "source": [
    "import matplotlib.pyplot as plt\n",
    "for i in range(1):\n",
    "    plt.figure()\n",
    "    plt.imshow(output[i][2].to('cpu').detach())"
   ]
  },
  {
   "cell_type": "code",
   "execution_count": 577,
   "metadata": {},
   "outputs": [],
   "source": [
    "np.save('test.npy',np.round(torch.sigmoid(output[0,:,:,:].to('cpu').detach())))\n",
    "np.save('test_real.npy',np.round(torch.sigmoid(images[0,:,:,:].to('cpu').detach())))"
   ]
  },
  {
   "cell_type": "code",
   "execution_count": 578,
   "metadata": {},
   "outputs": [
    {
     "data": {
      "image/png": "[encoded data removed]",
      "text/plain": [
       "<Figure size 432x288 with 1 Axes>"
      ]
     },
     "metadata": {
      "needs_background": "light"
     },
     "output_type": "display_data"
    },
    {
     "data": {
      "image/png": "[encoded data removed]",
      "text/plain": [
       "<Figure size 432x288 with 1 Axes>"
      ]
     },
     "metadata": {
      "needs_background": "light"
     },
     "output_type": "display_data"
    }
   ],
   "source": [
    "\n",
    "plt.title(\"Real\")\n",
    "plt.imshow(np.load('test_real.npy').transpose((1,2,0)), interpolation='none', aspect='auto')\n",
    "plt.show()\n",
    "\n",
    "plt.title(\"Rec\")\n",
    "plt.imshow(np.load('test.npy').transpose((1,2,0)), interpolation='none', aspect='auto')\n",
    "plt.show()\n"
   ]
  },
  {
   "cell_type": "code",
   "execution_count": 584,
   "metadata": {},
   "outputs": [
    {
     "data": {
      "image/png": "[encoded data removed]",
      "text/plain": [
       "<Figure size 432x288 with 1 Axes>"
      ]
     },
     "metadata": {
      "needs_background": "light"
     },
     "output_type": "display_data"
    },
    {
     "data": {
      "image/png": "[encoded data removed]",
      "text/plain": [
       "<Figure size 432x288 with 1 Axes>"
      ]
     },
     "metadata": {
      "needs_background": "light"
     },
     "output_type": "display_data"
    }
   ],
   "source": [
    "# testing new pics\n",
    "t2 = torch.tensor(np.asarray(np.load('dataset/0-123.npy')),dtype=torch.float)\n",
    "t2_p = np.round(torch.sigmoid(model(t2).to('cpu').detach()))\n",
    "\n",
    "np.save('test.npy',np.round(torch.sigmoid(t2_p.to('cpu').detach())))\n",
    "np.save('test_real.npy',np.round(torch.sigmoid(t2.to('cpu').detach())))\n",
    "\n",
    "\n",
    "plt.title(\"Real\")\n",
    "plt.imshow(np.load('test_real.npy').transpose((1,2,0)), interpolation='none', aspect='auto')\n",
    "plt.show()\n",
    "\n",
    "plt.title(\"Rec\")\n",
    "plt.imshow(np.load('test.npy').transpose((1,2,0)), interpolation='none', aspect='auto')\n",
    "plt.show()"
   ]
  },
  {
   "cell_type": "code",
   "execution_count": null,
   "metadata": {},
   "outputs": [],
   "source": [
    "class AE(torch.nn.Module):\n",
    "  def __init__(self, channels):\n",
    "    super(AE, self).__init__()\n",
    "    self.channels=channels\n",
    "    size = 100\n",
    "    self.encoder = torch.nn.Sequential(\n",
    "        torch.nn.Conv2d(3,100,kernel_size=(3),padding='same'),\n",
    "        torch.nn.ReLU(),\n",
    "        torch.nn.MaxPool2d(2),\n",
    "        torch.nn.Conv2d(100,50,kernel_size=(3), padding='same'),\n",
    "        torch.nn.ReLU(),\n",
    "        torch.nn.MaxPool2d(2),\n",
    "        torch.nn.Conv2d(50,50,kernel_size=(3), padding='same'),\n",
    "        torch.nn.ReLU(),\n",
    "      )\n",
    "\n",
    "    self.bottleneck = torch.nn.Sequential(\n",
    "        torch.nn.MaxPool2d(2)\n",
    "      )\n",
    "\n",
    "    self.decoder = torch.nn.Sequential(        \n",
    "        torch.nn.Conv2d(50,50,kernel_size=(3), padding='same'),\n",
    "        torch.nn.ReLU(),\n",
    "        torch.nn.Upsample(2),\n",
    "        torch.nn.Conv2d(100,50,kernel_size=(3), padding='same'),\n",
    "        torch.nn.ReLU(),\n",
    "        torch.nn.Upsample(2),\n",
    "        torch.nn.Conv2d(100,50,kernel_size=(3), padding='same'),\n",
    "        \n",
    "        \n",
    "    )\n",
    "\n",
    "  def forward(self, x):\n",
    "    latent = self.encoder(x)\n",
    "    squished= self.bottleneck(torch.flatten(latent, start_dim=1, end_dim=-1))\n",
    "    squished= torch.reshape(squished, (-1,self.channels*2,50,52))\n",
    "    x_out = self.decoder(squished)\n",
    "    return x_out\n",
    "\n",
    "model = AE(channels=25).to('cpu')\n",
    "\n"
   ]
  },
  {
   "cell_type": "code",
   "execution_count": 43,
   "metadata": {},
   "outputs": [
    {
     "data": {
      "text/plain": [
       "torch.Size([3, 100, 100])"
      ]
     },
     "execution_count": 43,
     "metadata": {},
     "output_type": "execute_result"
    }
   ],
   "source": [
    "dataset[0].shape"
   ]
  },
  {
   "cell_type": "code",
   "execution_count": 111,
   "metadata": {},
   "outputs": [
    {
     "name": "stdout",
     "output_type": "stream",
     "text": [
      "torch.Size([12, 12, 12])\n",
      "torch.Size([50, 12, 2])\n"
     ]
    },
    {
     "ename": "TypeError",
     "evalue": "conv_transpose2d(): argument 'padding' (position 5) must be tuple of ints, not tuple",
     "output_type": "error",
     "traceback": [
      "\u001b[1;31m---------------------------------------------------------------------------\u001b[0m",
      "\u001b[1;31mTypeError\u001b[0m                                 Traceback (most recent call last)",
      "\u001b[1;32m~\\AppData\\Local\\Temp/ipykernel_23544/4065183364.py\u001b[0m in \u001b[0;36m<module>\u001b[1;34m\u001b[0m\n\u001b[0;32m     29\u001b[0m \u001b[0mout_8\u001b[0m \u001b[1;33m=\u001b[0m \u001b[0mi\u001b[0m\u001b[1;33m(\u001b[0m\u001b[0mout_7\u001b[0m\u001b[1;33m)\u001b[0m\u001b[1;33m\u001b[0m\u001b[1;33m\u001b[0m\u001b[0m\n\u001b[0;32m     30\u001b[0m \u001b[0mout_9\u001b[0m \u001b[1;33m=\u001b[0m \u001b[0mj\u001b[0m\u001b[1;33m(\u001b[0m\u001b[0mout_8\u001b[0m\u001b[1;33m)\u001b[0m\u001b[1;33m\u001b[0m\u001b[1;33m\u001b[0m\u001b[0m\n\u001b[1;32m---> 31\u001b[1;33m \u001b[0mout_10\u001b[0m \u001b[1;33m=\u001b[0m \u001b[0mk\u001b[0m\u001b[1;33m(\u001b[0m\u001b[0mout_9\u001b[0m\u001b[1;33m)\u001b[0m\u001b[1;33m\u001b[0m\u001b[1;33m\u001b[0m\u001b[0m\n\u001b[0m\u001b[0;32m     32\u001b[0m \u001b[1;31m# out_11 = j(out_10)\u001b[0m\u001b[1;33m\u001b[0m\u001b[1;33m\u001b[0m\u001b[0m\n\u001b[0;32m     33\u001b[0m \u001b[1;31m# out_12 = k(out_11)\u001b[0m\u001b[1;33m\u001b[0m\u001b[1;33m\u001b[0m\u001b[0m\n",
      "\u001b[1;32mE:\\Anaconda\\lib\\site-packages\\torch\\nn\\modules\\module.py\u001b[0m in \u001b[0;36m_call_impl\u001b[1;34m(self, *input, **kwargs)\u001b[0m\n\u001b[0;32m   1192\u001b[0m         if not (self._backward_hooks or self._forward_hooks or self._forward_pre_hooks or _global_backward_hooks\n\u001b[0;32m   1193\u001b[0m                 or _global_forward_hooks or _global_forward_pre_hooks):\n\u001b[1;32m-> 1194\u001b[1;33m             \u001b[1;32mreturn\u001b[0m \u001b[0mforward_call\u001b[0m\u001b[1;33m(\u001b[0m\u001b[1;33m*\u001b[0m\u001b[0minput\u001b[0m\u001b[1;33m,\u001b[0m \u001b[1;33m**\u001b[0m\u001b[0mkwargs\u001b[0m\u001b[1;33m)\u001b[0m\u001b[1;33m\u001b[0m\u001b[1;33m\u001b[0m\u001b[0m\n\u001b[0m\u001b[0;32m   1195\u001b[0m         \u001b[1;31m# Do not call functions when jit is used\u001b[0m\u001b[1;33m\u001b[0m\u001b[1;33m\u001b[0m\u001b[0m\n\u001b[0;32m   1196\u001b[0m         \u001b[0mfull_backward_hooks\u001b[0m\u001b[1;33m,\u001b[0m \u001b[0mnon_full_backward_hooks\u001b[0m \u001b[1;33m=\u001b[0m \u001b[1;33m[\u001b[0m\u001b[1;33m]\u001b[0m\u001b[1;33m,\u001b[0m \u001b[1;33m[\u001b[0m\u001b[1;33m]\u001b[0m\u001b[1;33m\u001b[0m\u001b[1;33m\u001b[0m\u001b[0m\n",
      "\u001b[1;32mE:\\Anaconda\\lib\\site-packages\\torch\\nn\\modules\\conv.py\u001b[0m in \u001b[0;36mforward\u001b[1;34m(self, input, output_size)\u001b[0m\n\u001b[0;32m    954\u001b[0m             num_spatial_dims, self.dilation)  # type: ignore[arg-type]\n\u001b[0;32m    955\u001b[0m \u001b[1;33m\u001b[0m\u001b[0m\n\u001b[1;32m--> 956\u001b[1;33m         return F.conv_transpose2d(\n\u001b[0m\u001b[0;32m    957\u001b[0m             \u001b[0minput\u001b[0m\u001b[1;33m,\u001b[0m \u001b[0mself\u001b[0m\u001b[1;33m.\u001b[0m\u001b[0mweight\u001b[0m\u001b[1;33m,\u001b[0m \u001b[0mself\u001b[0m\u001b[1;33m.\u001b[0m\u001b[0mbias\u001b[0m\u001b[1;33m,\u001b[0m \u001b[0mself\u001b[0m\u001b[1;33m.\u001b[0m\u001b[0mstride\u001b[0m\u001b[1;33m,\u001b[0m \u001b[0mself\u001b[0m\u001b[1;33m.\u001b[0m\u001b[0mpadding\u001b[0m\u001b[1;33m,\u001b[0m\u001b[1;33m\u001b[0m\u001b[1;33m\u001b[0m\u001b[0m\n\u001b[0;32m    958\u001b[0m             output_padding, self.groups, self.dilation)\n",
      "\u001b[1;31mTypeError\u001b[0m: conv_transpose2d(): argument 'padding' (position 5) must be tuple of ints, not tuple"
     ]
    }
   ],
   "source": [
    "a = torch.nn.Conv2d(3,100,kernel_size=(3),padding='same')\n",
    "b = torch.nn.ReLU()\n",
    "c = torch.nn.MaxPool2d((2,2))\n",
    "d = torch.nn.Conv2d(100,50,kernel_size=(3), padding='same')\n",
    "e = torch.nn.ReLU()\n",
    "f = torch.nn.MaxPool2d((2,2))\n",
    "g = torch.nn.Conv2d(50,50,kernel_size=(3), padding='same')\n",
    "h = torch.nn.ReLU()\n",
    "\n",
    "i = torch.nn.MaxPool2d((2,2))\n",
    "\n",
    "\n",
    "j = torch.nn.Conv2d(50,50,kernel_size=(3),padding='same')\n",
    "k = torch.nn.ConvTranspose2d(50,100,kernel_size=(3), padding='same')\n",
    "l = torch.nn.Conv2d(50,50,kernel_size=(3),padding='same')\n",
    "m = torch.nn.Upsample((2,2),mode='nearest')\n",
    "\n",
    "print(out_9.shape)\n",
    "print(out_10.shape)\n",
    "\n",
    "out_0 = a(dataset[0])\n",
    "out_1 = b(out_0)\n",
    "out_2 = c(out_1)\n",
    "out_3 = d(out_2)\n",
    "out_4 = e(out_3)\n",
    "out_5 = f(out_4)\n",
    "out_6 = g(out_5)\n",
    "out_7 = h(out_6)\n",
    "out_8 = i(out_7)\n",
    "out_9 = j(out_8)\n",
    "out_10 = k(out_9)\n",
    "# out_11 = j(out_10)\n",
    "# out_12 = k(out_11)\n",
    "\n",
    "\n",
    "\n",
    "print(out_9.shape)\n",
    "print(out_10.shape)\n",
    "# print(out_11.shape)\n",
    "# print(out_12.shape)"
   ]
  },
  {
   "cell_type": "code",
   "execution_count": 98,
   "metadata": {},
   "outputs": [
    {
     "ename": "IndexError",
     "evalue": "too many indices for tensor of dimension 3",
     "output_type": "error",
     "traceback": [
      "\u001b[1;31m---------------------------------------------------------------------------\u001b[0m",
      "\u001b[1;31mIndexError\u001b[0m                                Traceback (most recent call last)",
      "\u001b[1;32m~\\AppData\\Local\\Temp/ipykernel_23544/2928883037.py\u001b[0m in \u001b[0;36m<module>\u001b[1;34m\u001b[0m\n\u001b[0;32m      1\u001b[0m \u001b[1;32mimport\u001b[0m \u001b[0mmatplotlib\u001b[0m\u001b[1;33m.\u001b[0m\u001b[0mpyplot\u001b[0m \u001b[1;32mas\u001b[0m \u001b[0mplt\u001b[0m\u001b[1;33m\u001b[0m\u001b[1;33m\u001b[0m\u001b[0m\n\u001b[0;32m      2\u001b[0m \u001b[0mplt\u001b[0m\u001b[1;33m.\u001b[0m\u001b[0mfigure\u001b[0m\u001b[1;33m(\u001b[0m\u001b[1;33m)\u001b[0m\u001b[1;33m\u001b[0m\u001b[1;33m\u001b[0m\u001b[0m\n\u001b[1;32m----> 3\u001b[1;33m \u001b[0mplt\u001b[0m\u001b[1;33m.\u001b[0m\u001b[0mimshow\u001b[0m\u001b[1;33m(\u001b[0m\u001b[0mout_0\u001b[0m\u001b[1;33m[\u001b[0m\u001b[1;36m9\u001b[0m\u001b[1;33m,\u001b[0m\u001b[1;36m0\u001b[0m\u001b[1;33m,\u001b[0m\u001b[1;33m:\u001b[0m\u001b[1;33m,\u001b[0m\u001b[1;33m:\u001b[0m\u001b[1;33m]\u001b[0m\u001b[1;33m.\u001b[0m\u001b[0mdetach\u001b[0m\u001b[1;33m(\u001b[0m\u001b[1;33m)\u001b[0m\u001b[1;33m)\u001b[0m\u001b[1;33m\u001b[0m\u001b[1;33m\u001b[0m\u001b[0m\n\u001b[0m\u001b[0;32m      4\u001b[0m \u001b[0mplt\u001b[0m\u001b[1;33m.\u001b[0m\u001b[0mfigure\u001b[0m\u001b[1;33m(\u001b[0m\u001b[1;33m)\u001b[0m\u001b[1;33m\u001b[0m\u001b[1;33m\u001b[0m\u001b[0m\n\u001b[0;32m      5\u001b[0m \u001b[0mplt\u001b[0m\u001b[1;33m.\u001b[0m\u001b[0mimshow\u001b[0m\u001b[1;33m(\u001b[0m\u001b[0mout_1\u001b[0m\u001b[1;33m[\u001b[0m\u001b[1;36m9\u001b[0m\u001b[1;33m,\u001b[0m\u001b[1;36m0\u001b[0m\u001b[1;33m,\u001b[0m\u001b[1;33m:\u001b[0m\u001b[1;33m,\u001b[0m\u001b[1;33m:\u001b[0m\u001b[1;33m]\u001b[0m\u001b[1;33m.\u001b[0m\u001b[0mdetach\u001b[0m\u001b[1;33m(\u001b[0m\u001b[1;33m)\u001b[0m\u001b[1;33m)\u001b[0m\u001b[1;33m\u001b[0m\u001b[1;33m\u001b[0m\u001b[0m\n",
      "\u001b[1;31mIndexError\u001b[0m: too many indices for tensor of dimension 3"
     ]
    },
    {
     "data": {
      "text/plain": [
       "<Figure size 432x288 with 0 Axes>"
      ]
     },
     "metadata": {},
     "output_type": "display_data"
    }
   ],
   "source": [
    "import matplotlib.pyplot as plt\n",
    "plt.figure()\n",
    "plt.imshow(out_0[9,0,:,:].detach())\n",
    "plt.figure()\n",
    "plt.imshow(out_1[9,0,:,:].detach())\n",
    "plt.figure()\n",
    "plt.imshow(out_2[9,0,:,:].detach())\n",
    "plt.figure(figsize=(10,10))\n",
    "#plt.imshow(flat_out_2[0,:].detach())\n",
    "plt.imshow(out_3.detach())"
   ]
  },
  {
   "cell_type": "code",
   "execution_count": null,
   "metadata": {},
   "outputs": [],
   "source": [
    "plt.figure()\n",
    "plt.imshow(up_0[0,0,:,:].detach())\n",
    "plt.figure()\n",
    "plt.imshow(up_1[0,0,:,:].detach())\n",
    "plt.figure()\n",
    "plt.imshow(up_2[0,0,:,:].detach())\n",
    "plt.figure()\n",
    "plt.imshow(up_3[0,0,:,:].detach())"
   ]
  },
  {
   "cell_type": "code",
   "execution_count": 233,
   "metadata": {},
   "outputs": [
    {
     "data": {
      "text/plain": [
       "torch.Size([4, 25, 26])"
      ]
     },
     "execution_count": 233,
     "metadata": {},
     "output_type": "execute_result"
    }
   ],
   "source": [
    "torch.Size([4, 25, 26])"
   ]
  },
  {
   "cell_type": "code",
   "execution_count": 251,
   "metadata": {},
   "outputs": [
    {
     "data": {
      "text/plain": [
       "torch.Size([1, 3, 100, 100])"
      ]
     },
     "execution_count": 251,
     "metadata": {},
     "output_type": "execute_result"
    }
   ],
   "source": [
    "dataset.shape"
   ]
  },
  {
   "cell_type": "code",
   "execution_count": null,
   "metadata": {},
   "outputs": [],
   "source": []
  }
 ],
 "metadata": {
  "kernelspec": {
   "display_name": "Python 3 (ipykernel)",
   "language": "python",
   "name": "python3"
  },
  "language_info": {
   "codemirror_mode": {
    "name": "ipython",
    "version": 3
   },
   "file_extension": ".py",
   "mimetype": "text/x-python",
   "name": "python",
   "nbconvert_exporter": "python",
   "pygments_lexer": "ipython3",
   "version": "3.9.7"
  },
  "vscode": {
   "interpreter": {
    "hash": "ca4abe89e1d2bfac00b51db37bc3e765493fea8bd3429652b1d0755ba04be6f3"
   }
  }
 },
 "nbformat": 4,
 "nbformat_minor": 2
}
