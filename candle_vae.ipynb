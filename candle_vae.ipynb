{
 "cells": [
  {
   "cell_type": "markdown",
   "metadata": {},
   "source": [
    "<H3> In this notebooke we actually create the VAE and train on the stock chart images"
   ]
  },
  {
   "cell_type": "code",
   "execution_count": 4,
   "metadata": {},
   "outputs": [
    {
     "name": "stdout",
     "output_type": "stream",
     "text": [
      "torch.Size([2, 3, 128, 128])\n"
     ]
    }
   ],
   "source": [
    "import VAE_model\n",
    "import torch\n",
    "import torch.nn as nn\n",
    "import numpy as np\n",
    "import matplotlib.pyplot as plt\n",
    "from torch.optim.lr_scheduler import StepLR\n",
    "import glob\n",
    "import os\n",
    "from utils import *\n",
    "\n",
    "data_input_dir = '\\\\dataset'\n",
    "image_count = 2\n",
    "\n",
    "image_list=[]\n",
    "for idx, image in enumerate(glob.glob(pathname=os.getcwd()+data_input_dir+'\\\\*.npy')):\n",
    "    if idx==image_count:\n",
    "        break\n",
    "    image_list.append(np.load(image))\n",
    "dataset = torch.tensor(np.asarray(image_list), dtype=torch.float)\n",
    "\n",
    "#load image_count images as np arrays and convert to torch tensor\n",
    "print(dataset.shape)"
   ]
  },
  {
   "cell_type": "markdown",
   "metadata": {},
   "source": [
    "<h3>Dataloader to create batches and shuffle the data"
   ]
  },
  {
   "cell_type": "code",
   "execution_count": 5,
   "metadata": {},
   "outputs": [],
   "source": [
    "batch_size=1\n",
    "test, train = torch.utils.data.random_split(dataset, [0.2,0.8])\n",
    "\n",
    "train_sampler= torch.utils.data.RandomSampler(train)\n",
    "train_dataloader = torch.utils.data.DataLoader(train, batch_size=batch_size, sampler=train_sampler)\n",
    "test_sampler= torch.utils.data.RandomSampler(test)\n",
    "test_dataloader = torch.utils.data.DataLoader(test, batch_size=batch_size, sampler=test_sampler)\n"
   ]
  },
  {
   "cell_type": "code",
   "execution_count": 6,
   "metadata": {},
   "outputs": [
    {
     "name": "stderr",
     "output_type": "stream",
     "text": [
      "e:\\Anaconda\\envs\\investing\\lib\\site-packages\\torch\\nn\\functional.py:3734: UserWarning: nn.functional.upsample is deprecated. Use nn.functional.interpolate instead.\n",
      "  warnings.warn(\"nn.functional.upsample is deprecated. Use nn.functional.interpolate instead.\")\n"
     ]
    },
    {
     "name": "stdout",
     "output_type": "stream",
     "text": [
      "Epoch [1/10], Loss: 0.8274\n",
      "Epoch [2/10], Loss: 0.8261\n",
      "Epoch [3/10], Loss: 0.8083\n",
      "Epoch [4/10], Loss: 0.8009\n",
      "Epoch [5/10], Loss: 0.7925\n",
      "Epoch [6/10], Loss: 0.7817\n",
      "Epoch [7/10], Loss: 0.7715\n",
      "Epoch [8/10], Loss: 0.7686\n",
      "Epoch [9/10], Loss: 0.7648\n",
      "Epoch [10/10], Loss: 0.7616\n",
      "Epoch [11/10], Loss: 0.7529\n",
      "Epoch [12/10], Loss: 0.7511\n",
      "Epoch [13/10], Loss: 0.7481\n",
      "Epoch [14/10], Loss: 0.7390\n",
      "Epoch [15/10], Loss: 0.7336\n",
      "Epoch [16/10], Loss: 0.7277\n",
      "Epoch [17/10], Loss: 0.7273\n",
      "Epoch [18/10], Loss: 0.7263\n",
      "Epoch [19/10], Loss: 0.7255\n",
      "Epoch [20/10], Loss: 0.7228\n",
      "Epoch [21/10], Loss: 0.7201\n",
      "Epoch [22/10], Loss: 0.7170\n",
      "Epoch [23/10], Loss: 0.7120\n",
      "Epoch [24/10], Loss: 0.7121\n",
      "Epoch [25/10], Loss: 0.7092\n",
      "Epoch [26/10], Loss: 0.7099\n",
      "Epoch [27/10], Loss: 0.7074\n",
      "Epoch [28/10], Loss: 0.7065\n",
      "Epoch [29/10], Loss: 0.7054\n",
      "Epoch [30/10], Loss: 0.7037\n",
      "Epoch [31/10], Loss: 0.7035\n",
      "Epoch [32/10], Loss: 0.7034\n",
      "Epoch [33/10], Loss: 0.7031\n",
      "Epoch [34/10], Loss: 0.7021\n",
      "Epoch [35/10], Loss: 0.7013\n",
      "Epoch [36/10], Loss: 0.7009\n",
      "Epoch [37/10], Loss: 0.7003\n",
      "Epoch [38/10], Loss: 0.6997\n",
      "Epoch [39/10], Loss: 0.6990\n",
      "Epoch [40/10], Loss: 0.6988\n",
      "Epoch [41/10], Loss: 0.6979\n",
      "Epoch [42/10], Loss: 0.6976\n",
      "Epoch [43/10], Loss: 0.6975\n",
      "Epoch [44/10], Loss: 0.6972\n",
      "Epoch [45/10], Loss: 0.6968\n",
      "Epoch [46/10], Loss: 0.6971\n",
      "Epoch [47/10], Loss: 0.6963\n",
      "Epoch [48/10], Loss: 0.6961\n",
      "Epoch [49/10], Loss: 0.6959\n",
      "Epoch [50/10], Loss: 0.6959\n",
      "Epoch [51/10], Loss: 0.6956\n",
      "Epoch [52/10], Loss: 0.6955\n",
      "Epoch [53/10], Loss: 0.6953\n",
      "Epoch [54/10], Loss: 0.6951\n",
      "Epoch [55/10], Loss: 0.6948\n",
      "Epoch [56/10], Loss: 0.6949\n",
      "Epoch [57/10], Loss: 0.6947\n",
      "Epoch [58/10], Loss: 0.6948\n",
      "Epoch [59/10], Loss: 0.6947\n",
      "Epoch [60/10], Loss: 0.6946\n",
      "Epoch [61/10], Loss: 0.6946\n",
      "Epoch [62/10], Loss: 0.6947\n",
      "Epoch [63/10], Loss: 0.6947\n",
      "Epoch [64/10], Loss: 0.6945\n",
      "Epoch [65/10], Loss: 0.6945\n",
      "Epoch [66/10], Loss: 0.6942\n",
      "Epoch [67/10], Loss: 0.6944\n",
      "Epoch [68/10], Loss: 0.6942\n",
      "Epoch [69/10], Loss: 0.6943\n",
      "Epoch [70/10], Loss: 0.6940\n",
      "Epoch [71/10], Loss: 0.6941\n",
      "Epoch [72/10], Loss: 0.6941\n",
      "Epoch [73/10], Loss: 0.6941\n",
      "Epoch [74/10], Loss: 0.6940\n",
      "Epoch [75/10], Loss: 0.6940\n",
      "Epoch [76/10], Loss: 0.6940\n",
      "Epoch [77/10], Loss: 0.6940\n",
      "Epoch [78/10], Loss: 0.6939\n",
      "Epoch [79/10], Loss: 0.6939\n",
      "Epoch [80/10], Loss: 0.6939\n",
      "Epoch [81/10], Loss: 0.6940\n",
      "Epoch [82/10], Loss: 0.6938\n",
      "Epoch [83/10], Loss: 0.6937\n",
      "Epoch [84/10], Loss: 0.6939\n",
      "Epoch [85/10], Loss: 0.6938\n",
      "Epoch [86/10], Loss: 0.6938\n",
      "Epoch [87/10], Loss: 0.6937\n",
      "Epoch [88/10], Loss: 0.6937\n",
      "Epoch [89/10], Loss: 0.6938\n",
      "Epoch [90/10], Loss: 0.6938\n",
      "Epoch [91/10], Loss: 0.6936\n",
      "Epoch [92/10], Loss: 0.6937\n",
      "Epoch [93/10], Loss: 0.6938\n",
      "Epoch [94/10], Loss: 0.6937\n",
      "Epoch [95/10], Loss: 0.6937\n",
      "Epoch [96/10], Loss: 0.6937\n",
      "Epoch [97/10], Loss: 0.6937\n",
      "Epoch [98/10], Loss: 0.6937\n",
      "Epoch [99/10], Loss: 0.6938\n",
      "Epoch [100/10], Loss: 0.6937\n"
     ]
    }
   ],
   "source": [
    "torch.cuda.empty_cache()\n",
    "# Define the loss function and optimizer\n",
    "criterion = torch.nn.BCEWithLogitsLoss()\n",
    "lr=5e-5\n",
    "model = VAE_model.ResNet(VAE_model.Bottleneck,VAE_model.InvBottleneck, [3, 4, 6, 3, 3]).to('cuda')\n",
    "#model = VAE_model.AE().to('cuda')\n",
    "optimizer = torch.optim.Adam(model.parameters(), lr=lr)\n",
    "\n",
    "loss_list=[]\n",
    "# Train the model\n",
    "for epoch in range(100):\n",
    "    for idx, (images) in enumerate(train_dataloader):\n",
    "        images.to('cuda')\n",
    "        output = model(images.to('cuda')).to('cuda')\n",
    "        loss = criterion(output, images.to('cuda'))\n",
    "\n",
    "        # Backward pass and optimization\n",
    "        optimizer.zero_grad()\n",
    "        loss.backward()\n",
    "        optimizer.step()\n",
    "        #scheduler.step()\n",
    "        loss_list.append(loss.item())\n",
    "\n",
    "    # Print loss\n",
    "    if (epoch+1) % 1 == 0:\n",
    "        print(f'Epoch [{epoch+1}/10], Loss: {loss.item():.4f}')\n"
   ]
  },
  {
   "cell_type": "code",
   "execution_count": 5,
   "metadata": {},
   "outputs": [
    {
     "data": {
      "text/plain": [
       "[<matplotlib.lines.Line2D at 0x217b906dd00>]"
      ]
     },
     "execution_count": 5,
     "metadata": {},
     "output_type": "execute_result"
    },
    {
     "data": {
      "image/png": "[encoded data removed]",
      "text/plain": [
       "<Figure size 640x480 with 1 Axes>"
      ]
     },
     "metadata": {},
     "output_type": "display_data"
    }
   ],
   "source": [
    "loss_plot(loss_list)"
   ]
  },
  {
   "cell_type": "code",
   "execution_count": 5,
   "metadata": {},
   "outputs": [
    {
     "data": {
      "text/plain": [
       "tensor(0., device='cuda:0', grad_fn=<MaxBackward1>)"
      ]
     },
     "execution_count": 5,
     "metadata": {},
     "output_type": "execute_result"
    }
   ],
   "source": [
    "torch.max(output[0])"
   ]
  },
  {
   "cell_type": "code",
   "execution_count": 9,
   "metadata": {},
   "outputs": [],
   "source": [
    "np.save('test.npy',np.round(torch.sigmoid(output[2,:,:,:].to('cpu').detach())))\n",
    "np.save('test_real.npy',np.round(torch.sigmoid(images[2,:,:,:].to('cpu').detach())))"
   ]
  },
  {
   "cell_type": "code",
   "execution_count": 10,
   "metadata": {},
   "outputs": [
    {
     "data": {
      "image/png": "[encoded data removed]",
      "text/plain": [
       "<Figure size 640x480 with 1 Axes>"
      ]
     },
     "metadata": {},
     "output_type": "display_data"
    },
    {
     "data": {
      "image/png": "[encoded data removed]",
      "text/plain": [
       "<Figure size 640x480 with 1 Axes>"
      ]
     },
     "metadata": {},
     "output_type": "display_data"
    }
   ],
   "source": [
    "plt.title(\"Real\")\n",
    "plt.imshow(np.load('test_real.npy').transpose((1,2,0)), interpolation='none', aspect='auto')\n",
    "plt.show()\n",
    "\n",
    "plt.title(\"Rec\")\n",
    "plt.imshow(np.load('test.npy').transpose((1,2,0)), interpolation='none', aspect='auto')\n",
    "plt.show()"
   ]
  },
  {
   "cell_type": "code",
   "execution_count": 13,
   "metadata": {},
   "outputs": [
    {
     "ename": "ValueError",
     "evalue": "expected 4D input (got 3D input)",
     "output_type": "error",
     "traceback": [
      "\u001b[1;31m---------------------------------------------------------------------------\u001b[0m",
      "\u001b[1;31mValueError\u001b[0m                                Traceback (most recent call last)",
      "Cell \u001b[1;32mIn[13], line 3\u001b[0m\n\u001b[0;32m      1\u001b[0m \u001b[39m# testing new pictures\u001b[39;00m\n\u001b[0;32m      2\u001b[0m t2 \u001b[39m=\u001b[39m torch\u001b[39m.\u001b[39mtensor(np\u001b[39m.\u001b[39masarray(np\u001b[39m.\u001b[39mload(\u001b[39m'\u001b[39m\u001b[39mdataset/0-100.npy\u001b[39m\u001b[39m'\u001b[39m)),dtype\u001b[39m=\u001b[39mtorch\u001b[39m.\u001b[39mfloat)\u001b[39m.\u001b[39mto(\u001b[39m'\u001b[39m\u001b[39mcuda\u001b[39m\u001b[39m'\u001b[39m)\n\u001b[1;32m----> 3\u001b[0m t2_p \u001b[39m=\u001b[39m np\u001b[39m.\u001b[39mround(torch\u001b[39m.\u001b[39msigmoid(model(t2)\u001b[39m.\u001b[39mto(\u001b[39m'\u001b[39m\u001b[39mcpu\u001b[39m\u001b[39m'\u001b[39m)\u001b[39m.\u001b[39mdetach()))\n\u001b[0;32m      5\u001b[0m np\u001b[39m.\u001b[39msave(\u001b[39m'\u001b[39m\u001b[39mtest.npy\u001b[39m\u001b[39m'\u001b[39m,np\u001b[39m.\u001b[39mround(torch\u001b[39m.\u001b[39msigmoid(t2_p\u001b[39m.\u001b[39mto(\u001b[39m'\u001b[39m\u001b[39mcpu\u001b[39m\u001b[39m'\u001b[39m)\u001b[39m.\u001b[39mdetach())))\n\u001b[0;32m      6\u001b[0m np\u001b[39m.\u001b[39msave(\u001b[39m'\u001b[39m\u001b[39mtest_real.npy\u001b[39m\u001b[39m'\u001b[39m,np\u001b[39m.\u001b[39mround(torch\u001b[39m.\u001b[39msigmoid(t2\u001b[39m.\u001b[39mto(\u001b[39m'\u001b[39m\u001b[39mcpu\u001b[39m\u001b[39m'\u001b[39m)\u001b[39m.\u001b[39mdetach())))\n",
      "File \u001b[1;32me:\\Anaconda\\envs\\investing\\lib\\site-packages\\torch\\nn\\modules\\module.py:1194\u001b[0m, in \u001b[0;36mModule._call_impl\u001b[1;34m(self, *input, **kwargs)\u001b[0m\n\u001b[0;32m   1190\u001b[0m \u001b[39m# If we don't have any hooks, we want to skip the rest of the logic in\u001b[39;00m\n\u001b[0;32m   1191\u001b[0m \u001b[39m# this function, and just call forward.\u001b[39;00m\n\u001b[0;32m   1192\u001b[0m \u001b[39mif\u001b[39;00m \u001b[39mnot\u001b[39;00m (\u001b[39mself\u001b[39m\u001b[39m.\u001b[39m_backward_hooks \u001b[39mor\u001b[39;00m \u001b[39mself\u001b[39m\u001b[39m.\u001b[39m_forward_hooks \u001b[39mor\u001b[39;00m \u001b[39mself\u001b[39m\u001b[39m.\u001b[39m_forward_pre_hooks \u001b[39mor\u001b[39;00m _global_backward_hooks\n\u001b[0;32m   1193\u001b[0m         \u001b[39mor\u001b[39;00m _global_forward_hooks \u001b[39mor\u001b[39;00m _global_forward_pre_hooks):\n\u001b[1;32m-> 1194\u001b[0m     \u001b[39mreturn\u001b[39;00m forward_call(\u001b[39m*\u001b[39m\u001b[39minput\u001b[39m, \u001b[39m*\u001b[39m\u001b[39m*\u001b[39mkwargs)\n\u001b[0;32m   1195\u001b[0m \u001b[39m# Do not call functions when jit is used\u001b[39;00m\n\u001b[0;32m   1196\u001b[0m full_backward_hooks, non_full_backward_hooks \u001b[39m=\u001b[39m [], []\n",
      "File \u001b[1;32mc:\\Users\\sam\\Documents\\GitHub\\stock_pattern_AI\\VAE_model.py:148\u001b[0m, in \u001b[0;36mResNet.forward\u001b[1;34m(self, x)\u001b[0m\n\u001b[0;32m    146\u001b[0m \u001b[39mdef\u001b[39;00m \u001b[39mforward\u001b[39m(\u001b[39mself\u001b[39m, x):\n\u001b[0;32m    147\u001b[0m     \u001b[39m# print(x.shape)\u001b[39;00m\n\u001b[1;32m--> 148\u001b[0m     out \u001b[39m=\u001b[39m F\u001b[39m.\u001b[39mrelu(\u001b[39mself\u001b[39;49m\u001b[39m.\u001b[39;49mbn1(\u001b[39mself\u001b[39;49m\u001b[39m.\u001b[39;49mconv1(x)))\n\u001b[0;32m    149\u001b[0m     \u001b[39m# print(out.shape)\u001b[39;00m\n\u001b[0;32m    150\u001b[0m     out \u001b[39m=\u001b[39m \u001b[39mself\u001b[39m\u001b[39m.\u001b[39mlayer1(out)\n",
      "File \u001b[1;32me:\\Anaconda\\envs\\investing\\lib\\site-packages\\torch\\nn\\modules\\module.py:1194\u001b[0m, in \u001b[0;36mModule._call_impl\u001b[1;34m(self, *input, **kwargs)\u001b[0m\n\u001b[0;32m   1190\u001b[0m \u001b[39m# If we don't have any hooks, we want to skip the rest of the logic in\u001b[39;00m\n\u001b[0;32m   1191\u001b[0m \u001b[39m# this function, and just call forward.\u001b[39;00m\n\u001b[0;32m   1192\u001b[0m \u001b[39mif\u001b[39;00m \u001b[39mnot\u001b[39;00m (\u001b[39mself\u001b[39m\u001b[39m.\u001b[39m_backward_hooks \u001b[39mor\u001b[39;00m \u001b[39mself\u001b[39m\u001b[39m.\u001b[39m_forward_hooks \u001b[39mor\u001b[39;00m \u001b[39mself\u001b[39m\u001b[39m.\u001b[39m_forward_pre_hooks \u001b[39mor\u001b[39;00m _global_backward_hooks\n\u001b[0;32m   1193\u001b[0m         \u001b[39mor\u001b[39;00m _global_forward_hooks \u001b[39mor\u001b[39;00m _global_forward_pre_hooks):\n\u001b[1;32m-> 1194\u001b[0m     \u001b[39mreturn\u001b[39;00m forward_call(\u001b[39m*\u001b[39m\u001b[39minput\u001b[39m, \u001b[39m*\u001b[39m\u001b[39m*\u001b[39mkwargs)\n\u001b[0;32m   1195\u001b[0m \u001b[39m# Do not call functions when jit is used\u001b[39;00m\n\u001b[0;32m   1196\u001b[0m full_backward_hooks, non_full_backward_hooks \u001b[39m=\u001b[39m [], []\n",
      "File \u001b[1;32me:\\Anaconda\\envs\\investing\\lib\\site-packages\\torch\\nn\\modules\\batchnorm.py:138\u001b[0m, in \u001b[0;36m_BatchNorm.forward\u001b[1;34m(self, input)\u001b[0m\n\u001b[0;32m    137\u001b[0m \u001b[39mdef\u001b[39;00m \u001b[39mforward\u001b[39m(\u001b[39mself\u001b[39m, \u001b[39minput\u001b[39m: Tensor) \u001b[39m-\u001b[39m\u001b[39m>\u001b[39m Tensor:\n\u001b[1;32m--> 138\u001b[0m     \u001b[39mself\u001b[39;49m\u001b[39m.\u001b[39;49m_check_input_dim(\u001b[39minput\u001b[39;49m)\n\u001b[0;32m    140\u001b[0m     \u001b[39m# exponential_average_factor is set to self.momentum\u001b[39;00m\n\u001b[0;32m    141\u001b[0m     \u001b[39m# (when it is available) only so that it gets updated\u001b[39;00m\n\u001b[0;32m    142\u001b[0m     \u001b[39m# in ONNX graph when this node is exported to ONNX.\u001b[39;00m\n\u001b[0;32m    143\u001b[0m     \u001b[39mif\u001b[39;00m \u001b[39mself\u001b[39m\u001b[39m.\u001b[39mmomentum \u001b[39mis\u001b[39;00m \u001b[39mNone\u001b[39;00m:\n",
      "File \u001b[1;32me:\\Anaconda\\envs\\investing\\lib\\site-packages\\torch\\nn\\modules\\batchnorm.py:410\u001b[0m, in \u001b[0;36mBatchNorm2d._check_input_dim\u001b[1;34m(self, input)\u001b[0m\n\u001b[0;32m    408\u001b[0m \u001b[39mdef\u001b[39;00m \u001b[39m_check_input_dim\u001b[39m(\u001b[39mself\u001b[39m, \u001b[39minput\u001b[39m):\n\u001b[0;32m    409\u001b[0m     \u001b[39mif\u001b[39;00m \u001b[39minput\u001b[39m\u001b[39m.\u001b[39mdim() \u001b[39m!=\u001b[39m \u001b[39m4\u001b[39m:\n\u001b[1;32m--> 410\u001b[0m         \u001b[39mraise\u001b[39;00m \u001b[39mValueError\u001b[39;00m(\u001b[39m\"\u001b[39m\u001b[39mexpected 4D input (got \u001b[39m\u001b[39m{}\u001b[39;00m\u001b[39mD input)\u001b[39m\u001b[39m\"\u001b[39m\u001b[39m.\u001b[39mformat(\u001b[39minput\u001b[39m\u001b[39m.\u001b[39mdim()))\n",
      "\u001b[1;31mValueError\u001b[0m: expected 4D input (got 3D input)"
     ]
    }
   ],
   "source": [
    "# testing new pictures\n",
    "t2 = torch.tensor(np.asarray(np.load('dataset/0-100.npy')),dtype=torch.float).to('cuda')\n",
    "t2_p = np.round(torch.sigmoid(model(t2).to('cpu').detach()))\n",
    "\n",
    "np.save('test.npy',np.round(torch.sigmoid(t2_p.to('cpu').detach())))\n",
    "np.save('test_real.npy',np.round(torch.sigmoid(t2.to('cpu').detach())))\n",
    "\n",
    "\n",
    "plt.title(\"Real\")\n",
    "plt.imshow(np.load('test_real.npy').transpose((1,2,0)), interpolation='none', aspect='auto')\n",
    "plt.show()\n",
    "\n",
    "plt.title(\"Rec\")\n",
    "plt.imshow(np.load('test.npy').transpose((1,2,0)), interpolation='none', aspect='auto')\n",
    "plt.show()"
   ]
  },
  {
   "cell_type": "code",
   "execution_count": null,
   "metadata": {},
   "outputs": [
    {
     "name": "stdout",
     "output_type": "stream",
     "text": [
      "torch.Size([12, 12, 12])\n",
      "torch.Size([50, 12, 2])\n"
     ]
    },
    {
     "ename": "TypeError",
     "evalue": "conv_transpose2d(): argument 'padding' (position 5) must be tuple of ints, not tuple",
     "output_type": "error",
     "traceback": [
      "\u001b[1;31m---------------------------------------------------------------------------\u001b[0m",
      "\u001b[1;31mTypeError\u001b[0m                                 Traceback (most recent call last)",
      "\u001b[1;32m~\\AppData\\Local\\Temp/ipykernel_23544/4065183364.py\u001b[0m in \u001b[0;36m<module>\u001b[1;34m\u001b[0m\n\u001b[0;32m     29\u001b[0m \u001b[0mout_8\u001b[0m \u001b[1;33m=\u001b[0m \u001b[0mi\u001b[0m\u001b[1;33m(\u001b[0m\u001b[0mout_7\u001b[0m\u001b[1;33m)\u001b[0m\u001b[1;33m\u001b[0m\u001b[1;33m\u001b[0m\u001b[0m\n\u001b[0;32m     30\u001b[0m \u001b[0mout_9\u001b[0m \u001b[1;33m=\u001b[0m \u001b[0mj\u001b[0m\u001b[1;33m(\u001b[0m\u001b[0mout_8\u001b[0m\u001b[1;33m)\u001b[0m\u001b[1;33m\u001b[0m\u001b[1;33m\u001b[0m\u001b[0m\n\u001b[1;32m---> 31\u001b[1;33m \u001b[0mout_10\u001b[0m \u001b[1;33m=\u001b[0m \u001b[0mk\u001b[0m\u001b[1;33m(\u001b[0m\u001b[0mout_9\u001b[0m\u001b[1;33m)\u001b[0m\u001b[1;33m\u001b[0m\u001b[1;33m\u001b[0m\u001b[0m\n\u001b[0m\u001b[0;32m     32\u001b[0m \u001b[1;31m# out_11 = j(out_10)\u001b[0m\u001b[1;33m\u001b[0m\u001b[1;33m\u001b[0m\u001b[0m\n\u001b[0;32m     33\u001b[0m \u001b[1;31m# out_12 = k(out_11)\u001b[0m\u001b[1;33m\u001b[0m\u001b[1;33m\u001b[0m\u001b[0m\n",
      "\u001b[1;32mE:\\Anaconda\\lib\\site-packages\\torch\\nn\\modules\\module.py\u001b[0m in \u001b[0;36m_call_impl\u001b[1;34m(self, *input, **kwargs)\u001b[0m\n\u001b[0;32m   1192\u001b[0m         if not (self._backward_hooks or self._forward_hooks or self._forward_pre_hooks or _global_backward_hooks\n\u001b[0;32m   1193\u001b[0m                 or _global_forward_hooks or _global_forward_pre_hooks):\n\u001b[1;32m-> 1194\u001b[1;33m             \u001b[1;32mreturn\u001b[0m \u001b[0mforward_call\u001b[0m\u001b[1;33m(\u001b[0m\u001b[1;33m*\u001b[0m\u001b[0minput\u001b[0m\u001b[1;33m,\u001b[0m \u001b[1;33m**\u001b[0m\u001b[0mkwargs\u001b[0m\u001b[1;33m)\u001b[0m\u001b[1;33m\u001b[0m\u001b[1;33m\u001b[0m\u001b[0m\n\u001b[0m\u001b[0;32m   1195\u001b[0m         \u001b[1;31m# Do not call functions when jit is used\u001b[0m\u001b[1;33m\u001b[0m\u001b[1;33m\u001b[0m\u001b[0m\n\u001b[0;32m   1196\u001b[0m         \u001b[0mfull_backward_hooks\u001b[0m\u001b[1;33m,\u001b[0m \u001b[0mnon_full_backward_hooks\u001b[0m \u001b[1;33m=\u001b[0m \u001b[1;33m[\u001b[0m\u001b[1;33m]\u001b[0m\u001b[1;33m,\u001b[0m \u001b[1;33m[\u001b[0m\u001b[1;33m]\u001b[0m\u001b[1;33m\u001b[0m\u001b[1;33m\u001b[0m\u001b[0m\n",
      "\u001b[1;32mE:\\Anaconda\\lib\\site-packages\\torch\\nn\\modules\\conv.py\u001b[0m in \u001b[0;36mforward\u001b[1;34m(self, input, output_size)\u001b[0m\n\u001b[0;32m    954\u001b[0m             num_spatial_dims, self.dilation)  # type: ignore[arg-type]\n\u001b[0;32m    955\u001b[0m \u001b[1;33m\u001b[0m\u001b[0m\n\u001b[1;32m--> 956\u001b[1;33m         return F.conv_transpose2d(\n\u001b[0m\u001b[0;32m    957\u001b[0m             \u001b[0minput\u001b[0m\u001b[1;33m,\u001b[0m \u001b[0mself\u001b[0m\u001b[1;33m.\u001b[0m\u001b[0mweight\u001b[0m\u001b[1;33m,\u001b[0m \u001b[0mself\u001b[0m\u001b[1;33m.\u001b[0m\u001b[0mbias\u001b[0m\u001b[1;33m,\u001b[0m \u001b[0mself\u001b[0m\u001b[1;33m.\u001b[0m\u001b[0mstride\u001b[0m\u001b[1;33m,\u001b[0m \u001b[0mself\u001b[0m\u001b[1;33m.\u001b[0m\u001b[0mpadding\u001b[0m\u001b[1;33m,\u001b[0m\u001b[1;33m\u001b[0m\u001b[1;33m\u001b[0m\u001b[0m\n\u001b[0;32m    958\u001b[0m             output_padding, self.groups, self.dilation)\n",
      "\u001b[1;31mTypeError\u001b[0m: conv_transpose2d(): argument 'padding' (position 5) must be tuple of ints, not tuple"
     ]
    }
   ],
   "source": [
    "a = torch.nn.Conv2d(3,100,kernel_size=(3),padding='same')\n",
    "b = torch.nn.ReLU()\n",
    "c = torch.nn.MaxPool2d((2,2))\n",
    "d = torch.nn.Conv2d(100,50,kernel_size=(3), padding='same')\n",
    "e = torch.nn.ReLU()\n",
    "f = torch.nn.MaxPool2d((2,2))\n",
    "g = torch.nn.Conv2d(50,50,kernel_size=(3), padding='same')\n",
    "h = torch.nn.ReLU()\n",
    "\n",
    "i = torch.nn.MaxPool2d((2,2))\n",
    "\n",
    "\n",
    "j = torch.nn.Conv2d(50,50,kernel_size=(3),padding='same')\n",
    "k = torch.nn.ConvTranspose2d(50,100,kernel_size=(3), padding='same')\n",
    "l = torch.nn.Conv2d(50,50,kernel_size=(3),padding='same')\n",
    "m = torch.nn.Upsample((2,2),mode='nearest')\n",
    "\n",
    "print(out_9.shape)\n",
    "print(out_10.shape)\n",
    "\n",
    "out_0 = a(dataset[0])\n",
    "out_1 = b(out_0)\n",
    "out_2 = c(out_1)\n",
    "out_3 = d(out_2)\n",
    "out_4 = e(out_3)\n",
    "out_5 = f(out_4)\n",
    "out_6 = g(out_5)\n",
    "out_7 = h(out_6)\n",
    "out_8 = i(out_7)\n",
    "out_9 = j(out_8)\n",
    "out_10 = k(out_9)\n",
    "# out_11 = j(out_10)\n",
    "# out_12 = k(out_11)\n",
    "\n",
    "\n",
    "\n",
    "print(out_9.shape)\n",
    "print(out_10.shape)\n",
    "# print(out_11.shape)\n",
    "# print(out_12.shape)"
   ]
  },
  {
   "cell_type": "code",
   "execution_count": 8,
   "metadata": {},
   "outputs": [
    {
     "name": "stdout",
     "output_type": "stream",
     "text": [
      "torch.Size([10, 1, 128, 128])\n"
     ]
    }
   ],
   "source": [
    "print(torch.nn.functional.conv_transpose2d(torch.rand(10,2048,128,128),torch.randn(2048,1,3,3),stride=1, padding=1).shape)\n",
    "# print(torch.nn.functional.conv_transpose2d(torch.rand(10,2048,18,18),torch.randn(2048,1,4,4),stride=1, padding=2).shape)\n",
    "# print(torch.nn.functional.conv_transpose2d(torch.rand(10,2048,17,17),torch.randn(2048,1,4,4),stride=1, padding=2).shape)"
   ]
  },
  {
   "cell_type": "code",
   "execution_count": null,
   "metadata": {},
   "outputs": [],
   "source": []
  }
 ],
 "metadata": {
  "kernelspec": {
   "display_name": "investing",
   "language": "python",
   "name": "python3"
  },
  "language_info": {
   "codemirror_mode": {
    "name": "ipython",
    "version": 3
   },
   "file_extension": ".py",
   "mimetype": "text/x-python",
   "name": "python",
   "nbconvert_exporter": "python",
   "pygments_lexer": "ipython3",
   "version": "3.9.15"
  },
  "vscode": {
   "interpreter": {
    "hash": "6cc7d082bacc2b4a15933225ce6c62942207a4919dd7470327d1498fb8812351"
   }
  }
 },
 "nbformat": 4,
 "nbformat_minor": 2
}
