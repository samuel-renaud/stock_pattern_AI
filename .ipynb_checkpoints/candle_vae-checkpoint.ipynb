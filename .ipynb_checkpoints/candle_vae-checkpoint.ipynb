{
 "cells": [
  {
   "cell_type": "markdown",
   "metadata": {},
   "source": [
    "<H3> In this notebooke we actually create the VAE and train on the stock chart images"
   ]
  },
  {
   "cell_type": "code",
   "execution_count": 1,
   "metadata": {},
   "outputs": [
    {
     "name": "stdout",
     "output_type": "stream",
     "text": [
      "torch.Size([1, 3, 100, 104])\n"
     ]
    }
   ],
   "source": [
    "import torch\n",
    "import numpy as np\n",
    "\n",
    "data_input_dir='dataset//'\n",
    "image_count = 1\n",
    "\n",
    "#load image_count images as np arrays and convert to torch tensor\n",
    "dataset = torch.tensor(np.asarray([np.load(data_input_dir+'0-'+str(i)+'.npy') for i in range(image_count)]),dtype=torch.float)\n",
    "print(dataset.shape)\n",
    "\n",
    "\n",
    "\n",
    "\n"
   ]
  },
  {
   "cell_type": "markdown",
   "metadata": {},
   "source": [
    "<h3>Dataloader to create batches and shuffle the data"
   ]
  },
  {
   "cell_type": "code",
   "execution_count": 2,
   "metadata": {},
   "outputs": [],
   "source": [
    "batch_size=10\n",
    "#sampler= torch.utils.data.RandomSampler(dataset)\n",
    "data_loader = torch.utils.data.DataLoader(dataset, batch_size=batch_size)"
   ]
  },
  {
   "cell_type": "code",
   "execution_count": 3,
   "metadata": {},
   "outputs": [],
   "source": [
    "class AE(torch.nn.Module):\n",
    "  def __init__(self, channels):\n",
    "    super(AE, self).__init__()\n",
    "    self.channels=channels\n",
    "    self.encoder = torch.nn.Sequential(\n",
    "        torch.nn.Conv2d(3,channels,kernel_size=(1,1),stride=(1,1)),\n",
    "        torch.nn.ReLU(),\n",
    "        torch.nn.Conv2d(channels,channels*2,kernel_size=(2,2), stride=(2,2)),\n",
    "        torch.nn.ReLU(),\n",
    "        torch.nn.Conv2d(channels*2,channels*2,kernel_size=(1,1), stride=(1,1)),\n",
    "        torch.nn.ReLU(),\n",
    "      )\n",
    "\n",
    "    self.bottleneck = torch.nn.Sequential(\n",
    "        torch.nn.Linear(in_features=(channels*2)*50*52, out_features=2_000),\n",
    "        torch.nn.ReLU(),\n",
    "        torch.nn.Linear(in_features=2_000, out_features=(channels*2)*50*52),\n",
    "        torch.nn.ReLU(),\n",
    "      )\n",
    "\n",
    "    self.decoder = torch.nn.Sequential(        \n",
    "        torch.nn.ConvTranspose2d(channels*2,channels*2,kernel_size=(1,1), stride=(1,1)),\n",
    "        torch.nn.ReLU(),\n",
    "        torch.nn.ConvTranspose2d(channels*2,channels,kernel_size=(2,2), stride=(2,2)),\n",
    "        torch.nn.ReLU(),\n",
    "        torch.nn.ConvTranspose2d(channels,3,kernel_size=(1,1),stride=(1,1)),\n",
    "    )\n",
    "\n",
    "  def forward(self, x):\n",
    "    latent = self.encoder(x)\n",
    "    squished= self.bottleneck(torch.flatten(latent, start_dim=1, end_dim=-1))\n",
    "    squished= torch.reshape(squished, (-1,self.channels*2,50,52))\n",
    "    x_out = self.decoder(squished)\n",
    "    return x_out\n",
    "\n",
    "model = AE(channels=25).to('cuda')\n",
    "\n"
   ]
  },
  {
   "cell_type": "code",
   "execution_count": 4,
   "metadata": {},
   "outputs": [],
   "source": [
    "torch.cuda.empty_cache()"
   ]
  },
  {
   "cell_type": "code",
   "execution_count": 5,
   "metadata": {},
   "outputs": [
    {
     "name": "stdout",
     "output_type": "stream",
     "text": [
      "Epoch [10/10], Loss: 0.1152\n",
      "Epoch [20/10], Loss: 0.0900\n",
      "Epoch [30/10], Loss: 0.0771\n",
      "Epoch [40/10], Loss: 0.0715\n",
      "Epoch [50/10], Loss: 0.0683\n",
      "Epoch [60/10], Loss: 0.0652\n",
      "Epoch [70/10], Loss: 0.0623\n",
      "Epoch [80/10], Loss: 0.0604\n",
      "Epoch [90/10], Loss: 0.0576\n",
      "Epoch [100/10], Loss: 0.0559\n",
      "Epoch [110/10], Loss: 0.0542\n",
      "Epoch [120/10], Loss: 0.0521\n",
      "Epoch [130/10], Loss: 0.0517\n",
      "Epoch [140/10], Loss: 0.0519\n",
      "Epoch [150/10], Loss: 0.0515\n",
      "Epoch [160/10], Loss: 0.0508\n",
      "Epoch [170/10], Loss: 0.0506\n",
      "Epoch [180/10], Loss: 0.0510\n",
      "Epoch [190/10], Loss: 0.0506\n",
      "Epoch [200/10], Loss: 0.0504\n",
      "Epoch [210/10], Loss: 0.0501\n",
      "Epoch [220/10], Loss: 0.0501\n",
      "Epoch [230/10], Loss: 0.0503\n",
      "Epoch [240/10], Loss: 0.0500\n",
      "Epoch [250/10], Loss: 0.0506\n",
      "Epoch [260/10], Loss: 0.0530\n",
      "Epoch [270/10], Loss: 0.0513\n",
      "Epoch [280/10], Loss: 0.0499\n",
      "Epoch [290/10], Loss: 0.0496\n",
      "Epoch [300/10], Loss: 0.0493\n",
      "Epoch [310/10], Loss: 0.0491\n",
      "Epoch [320/10], Loss: 0.0490\n",
      "Epoch [330/10], Loss: 0.0492\n",
      "Epoch [340/10], Loss: 0.0497\n",
      "Epoch [350/10], Loss: 0.0494\n",
      "Epoch [360/10], Loss: 0.0487\n",
      "Epoch [370/10], Loss: 0.0480\n",
      "Epoch [380/10], Loss: 0.0475\n",
      "Epoch [390/10], Loss: 0.0472\n",
      "Epoch [400/10], Loss: 0.0471\n",
      "Epoch [410/10], Loss: 0.0470\n",
      "Epoch [420/10], Loss: 0.0466\n",
      "Epoch [430/10], Loss: 0.0463\n",
      "Epoch [440/10], Loss: 0.0459\n",
      "Epoch [450/10], Loss: 0.0456\n",
      "Epoch [460/10], Loss: 0.0454\n",
      "Epoch [470/10], Loss: 0.0480\n",
      "Epoch [480/10], Loss: 0.0468\n",
      "Epoch [490/10], Loss: 0.0459\n",
      "Epoch [500/10], Loss: 0.0454\n",
      "Epoch [510/10], Loss: 0.0450\n",
      "Epoch [520/10], Loss: 0.0448\n",
      "Epoch [530/10], Loss: 0.0446\n",
      "Epoch [540/10], Loss: 0.0445\n",
      "Epoch [550/10], Loss: 0.0443\n",
      "Epoch [560/10], Loss: 0.0442\n",
      "Epoch [570/10], Loss: 0.0440\n",
      "Epoch [580/10], Loss: 0.0439\n",
      "Epoch [590/10], Loss: 0.0439\n",
      "Epoch [600/10], Loss: 0.0574\n",
      "Epoch [610/10], Loss: 0.0519\n",
      "Epoch [620/10], Loss: 0.0491\n",
      "Epoch [630/10], Loss: 0.0464\n",
      "Epoch [640/10], Loss: 0.0455\n",
      "Epoch [650/10], Loss: 0.0451\n",
      "Epoch [660/10], Loss: 0.0448\n",
      "Epoch [670/10], Loss: 0.0446\n",
      "Epoch [680/10], Loss: 0.0444\n",
      "Epoch [690/10], Loss: 0.0443\n",
      "Epoch [700/10], Loss: 0.0442\n",
      "Epoch [710/10], Loss: 0.0441\n",
      "Epoch [720/10], Loss: 0.0440\n",
      "Epoch [730/10], Loss: 0.0439\n",
      "Epoch [740/10], Loss: 0.0438\n",
      "Epoch [750/10], Loss: 0.0464\n",
      "Epoch [760/10], Loss: 0.0458\n",
      "Epoch [770/10], Loss: 0.0454\n",
      "Epoch [780/10], Loss: 0.0450\n",
      "Epoch [790/10], Loss: 0.0448\n",
      "Epoch [800/10], Loss: 0.0447\n",
      "Epoch [810/10], Loss: 0.0446\n",
      "Epoch [820/10], Loss: 0.0445\n",
      "Epoch [830/10], Loss: 0.0445\n",
      "Epoch [840/10], Loss: 0.0445\n",
      "Epoch [850/10], Loss: 0.0445\n",
      "Epoch [860/10], Loss: 0.0444\n",
      "Epoch [870/10], Loss: 0.0443\n",
      "Epoch [880/10], Loss: 0.0442\n",
      "Epoch [890/10], Loss: 0.0442\n",
      "Epoch [900/10], Loss: 0.0441\n"
     ]
    }
   ],
   "source": [
    "# Define the loss function and optimizer\n",
    "criterion = torch.nn.BCEWithLogitsLoss()\n",
    "optimizer = torch.optim.Adam(model.parameters(), lr=0.025)\n",
    "\n",
    "loss_list=[]\n",
    "# Train the model\n",
    "for epoch in range(900):\n",
    "    for idx, (images) in enumerate(data_loader):\n",
    "        images.to('cuda')\n",
    "        output = model(images.to('cuda')).to('cuda')\n",
    "        loss = criterion(output, images.to('cuda'))\n",
    "\n",
    "        # Backward pass and optimization\n",
    "        optimizer.zero_grad()\n",
    "        loss.backward()\n",
    "        optimizer.step()\n",
    "\n",
    "        loss_list.append(loss.item())\n",
    "\n",
    "    # Print loss\n",
    "    if (epoch+1) % 10 == 0:\n",
    "        print(f'Epoch [{epoch+1}/10], Loss: {loss.item():.4f}')\n"
   ]
  },
  {
   "cell_type": "code",
   "execution_count": 6,
   "metadata": {},
   "outputs": [
    {
     "data": {
      "text/plain": [
       "Text(0.5, 1.0, 'Loss Curve')"
      ]
     },
     "execution_count": 6,
     "metadata": {},
     "output_type": "execute_result"
    },
    {
     "data": {
      "image/png": "[encoded data removed]",
      "text/plain": [
       "<Figure size 640x480 with 1 Axes>"
      ]
     },
     "metadata": {},
     "output_type": "display_data"
    }
   ],
   "source": [
    "import matplotlib.pyplot as plt\n",
    "plt.plot(loss_list)\n",
    "plt.title('Loss Curve')"
   ]
  },
  {
   "cell_type": "code",
   "execution_count": 7,
   "metadata": {},
   "outputs": [
    {
     "data": {
      "text/plain": [
       "tensor(464.1740, device='cuda:0', grad_fn=<MaxBackward1>)"
      ]
     },
     "execution_count": 7,
     "metadata": {},
     "output_type": "execute_result"
    }
   ],
   "source": [
    "torch.max(output[0])"
   ]
  },
  {
   "cell_type": "code",
   "execution_count": 8,
   "metadata": {},
   "outputs": [
    {
     "data": {
      "image/png": "[encoded data removed]",
      "text/plain": [
       "<Figure size 640x480 with 1 Axes>"
      ]
     },
     "metadata": {},
     "output_type": "display_data"
    }
   ],
   "source": [
    "import matplotlib.pyplot as plt\n",
    "for i in range(1):\n",
    "    plt.figure()\n",
    "    plt.imshow(output[i][2].to('cpu').detach())"
   ]
  },
  {
   "cell_type": "code",
   "execution_count": 9,
   "metadata": {},
   "outputs": [],
   "source": [
    "np.save('test.npy',np.round(torch.sigmoid(output[0,:,:,:].to('cpu').detach())))\n",
    "np.save('test_real.npy',np.round(torch.sigmoid(images[0,:,:,:].to('cpu').detach())))"
   ]
  },
  {
   "cell_type": "code",
   "execution_count": null,
   "metadata": {},
   "outputs": [],
   "source": [
    "\n",
    "plt.imshow(np.dstack(Z), interpolation='none', aspect='auto')"
   ]
  },
  {
   "cell_type": "code",
   "execution_count": null,
   "metadata": {},
   "outputs": [
    {
     "name": "stdout",
     "output_type": "stream",
     "text": [
      "torch.Size([100, 3, 100, 104]) torch.Size([100, 3, 50, 52]) torch.Size([100, 3, 50, 52]) torch.Size([100, 7800]) torch.Size([100, 7800])\n",
      "torch.Size([100, 7800]) torch.Size([100, 3, 50, 52]) torch.Size([100, 3, 50, 52]) torch.Size([100, 3, 100, 104]) torch.Size([100, 3, 100, 104])\n"
     ]
    }
   ],
   "source": [
    "flatten = torch.nn.Flatten()\n",
    "a = torch.nn.Conv2d(3,3,kernel_size=(1,1),stride=(1,1))\n",
    "b = torch.nn.Conv2d(3,3,kernel_size=(2,2), stride=(2,2))\n",
    "c = torch.nn.Conv2d(3,3,kernel_size=(1,1), stride=(1,1))\n",
    "d = torch.nn.Linear(in_features=3*50*52, out_features=3*50*52)\n",
    "\n",
    "out_0 = a(dataset)\n",
    "#print(out_0.shape)\n",
    "out_1 = b(out_0)\n",
    "#print(out_1.shape)\n",
    "out_2 = c(out_1)\n",
    "#print(out_2.shape)\n",
    "flat_out_2 = flatten(out_2)\n",
    "#print(flat_out_2.shape)\n",
    "out_3 = d(flat_out_2)\n",
    "print(out_0.shape, out_1.shape, out_2.shape, flat_out_2.shape, out_3.shape)\n",
    "\n",
    "e = torch.nn.Linear(in_features=3*50*52, out_features=3*50*52)\n",
    "f = torch.nn.ConvTranspose2d(3,3,kernel_size=(1,1), stride=(1,1))\n",
    "g = torch.nn.ConvTranspose2d(3,3,kernel_size=(2,2), stride=(2,2))\n",
    "h = torch.nn.ConvTranspose2d(3,3,kernel_size=(1,1),stride=(1,1))\n",
    "\n",
    "up_0 = e(out_3)\n",
    "up_0 = torch.reshape(up_0,(-1,3,50,52))\n",
    "up_1 = f(up_0)\n",
    "up_2 = g(up_1)\n",
    "up_3 = h(up_2)\n",
    "print(out_3.shape, up_0.shape, up_1.shape, up_2.shape, up_3.shape)\n",
    "\n",
    "\n"
   ]
  },
  {
   "cell_type": "code",
   "execution_count": null,
   "metadata": {},
   "outputs": [],
   "source": [
    "import matplotlib.pyplot as plt\n",
    "plt.figure()\n",
    "plt.imshow(out_0[9,0,:,:].detach())\n",
    "plt.figure()\n",
    "plt.imshow(out_1[9,0,:,:].detach())\n",
    "plt.figure()\n",
    "plt.imshow(out_2[9,0,:,:].detach())\n",
    "plt.figure(figsize=(10,10))\n",
    "#plt.imshow(flat_out_2[0,:].detach())\n",
    "plt.imshow(out_3.detach())"
   ]
  },
  {
   "cell_type": "code",
   "execution_count": null,
   "metadata": {},
   "outputs": [],
   "source": [
    "plt.figure()\n",
    "plt.imshow(up_0[0,0,:,:].detach())\n",
    "plt.figure()\n",
    "plt.imshow(up_1[0,0,:,:].detach())\n",
    "plt.figure()\n",
    "plt.imshow(up_2[0,0,:,:].detach())\n",
    "plt.figure()\n",
    "plt.imshow(up_3[0,0,:,:].detach())"
   ]
  },
  {
   "cell_type": "code",
   "execution_count": null,
   "metadata": {},
   "outputs": [],
   "source": []
  }
 ],
 "metadata": {
  "kernelspec": {
   "display_name": "Python 3 (ipykernel)",
   "language": "python",
   "name": "python3"
  },
  "language_info": {
   "codemirror_mode": {
    "name": "ipython",
    "version": 3
   },
   "file_extension": ".py",
   "mimetype": "text/x-python",
   "name": "python",
   "nbconvert_exporter": "python",
   "pygments_lexer": "ipython3",
   "version": "3.9.7"
  },
  "vscode": {
   "interpreter": {
    "hash": "ca4abe89e1d2bfac00b51db37bc3e765493fea8bd3429652b1d0755ba04be6f3"
   }
  }
 },
 "nbformat": 4,
 "nbformat_minor": 2
}
