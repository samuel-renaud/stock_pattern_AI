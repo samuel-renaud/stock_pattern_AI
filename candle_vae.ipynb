{
 "cells": [
  {
   "attachments": {},
   "cell_type": "markdown",
   "metadata": {},
   "source": [
    "<H3> In this notebooke we actually create the VAE and train on the stock chart images"
   ]
  },
  {
   "cell_type": "code",
   "execution_count": 1,
   "metadata": {},
   "outputs": [
    {
     "name": "stdout",
     "output_type": "stream",
     "text": [
      "torch.Size([100, 3, 100, 104])\n"
     ]
    }
   ],
   "source": [
    "import torch\n",
    "import numpy as np\n",
    "\n",
    "data_input_dir='dataset//'\n",
    "image_count = 100\n",
    "\n",
    "#load image_count images as np arrays and convert to torch tensor\n",
    "dataset = torch.tensor(np.asarray([np.load(data_input_dir+'0-'+str(i)+'.npy') for i in range(image_count)]),dtype=torch.float)\n",
    "print(dataset.shape)\n",
    "\n",
    "\n",
    "\n",
    "\n"
   ]
  },
  {
   "cell_type": "code",
   "execution_count": 2,
   "metadata": {},
   "outputs": [],
   "source": [
    "batch_size=100\n",
    "data_loader = torch.utils.data.DataLoader(dataset, batch_size=batch_size, shuffle=True)"
   ]
  },
  {
   "cell_type": "code",
   "execution_count": 3,
   "metadata": {},
   "outputs": [],
   "source": [
    "class AE(torch.nn.Module):\n",
    "  def __init__(self):\n",
    "    super(AE, self).__init__()\n",
    "    self.encoder = torch.nn.Sequential(\n",
    "        torch.nn.Conv2d(3,3,kernel_size=(1,1),stride=(1,1)),\n",
    "        torch.nn.Tanh(),\n",
    "        torch.nn.Conv2d(3,3,kernel_size=(1,1), stride=(1,1)),\n",
    "        torch.nn.Tanh(),\n",
    "        torch.nn.Conv2d(3,3,kernel_size=(1,1), stride=(1,1)),\n",
    "        torch.nn.Tanh(),\n",
    "      )\n",
    "\n",
    "    self.bottleneck = torch.nn.Sequential(\n",
    "        torch.nn.Linear(in_features=100*104, out_features=100*104),\n",
    "        torch.nn.Tanh(),\n",
    "        torch.nn.Linear(in_features=100*104, out_features=100*104),\n",
    "        torch.nn.Tanh(),\n",
    "      )\n",
    "\n",
    "    self.decoder = torch.nn.Sequential(        \n",
    "        torch.nn.ConvTranspose2d(3,3,kernel_size=(1,1), stride=(1,1)),\n",
    "        torch.nn.Tanh(),\n",
    "        torch.nn.ConvTranspose2d(3,3,kernel_size=(1,1), stride=(1,1)),\n",
    "        torch.nn.Tanh(),\n",
    "        torch.nn.ConvTranspose2d(3,3,kernel_size=(1,1),stride=(1,1)),\n",
    "    )\n",
    "\n",
    "  def forward(self, x):\n",
    "    latent = self.encoder(x)\n",
    "    latent = torch.reshape(latent, (-1,3,100,104))\n",
    "    x_out = self.decoder(latent)\n",
    "    return x_out\n",
    "\n",
    "model = AE()\n",
    "\n"
   ]
  },
  {
   "cell_type": "code",
   "execution_count": 4,
   "metadata": {},
   "outputs": [],
   "source": [
    "torch.cuda.empty_cache()"
   ]
  },
  {
   "cell_type": "code",
   "execution_count": null,
   "metadata": {},
   "outputs": [],
   "source": [
    "# Define the loss function and optimizer\n",
    "criterion = torch.nn.BCEWithLogitsLoss()\n",
    "optimizer = torch.optim.Adam(model.parameters(), lr=0.05)\n",
    "\n",
    "loss_list=[]\n",
    "# Train the model\n",
    "for epoch in range(5_000):\n",
    "    for idx, (images) in enumerate(data_loader):\n",
    "        output = model(images).to('cuda')\n",
    "        loss = criterion(output, images.to('cuda'))\n",
    "\n",
    "        # Backward pass and optimization\n",
    "        optimizer.zero_grad()\n",
    "        loss.backward()\n",
    "        optimizer.step()\n",
    "\n",
    "        loss_list.append(loss.item())\n",
    "\n",
    "    # Print loss\n",
    "    if (epoch+1) % 100 == 0:\n",
    "        print(f'Epoch [{epoch+1}/100], Loss: {loss.item():.4f}')\n"
   ]
  },
  {
   "cell_type": "code",
   "execution_count": 6,
   "metadata": {},
   "outputs": [
    {
     "data": {
      "text/plain": [
       "Text(0.5, 1.0, 'Loss Curve')"
      ]
     },
     "execution_count": 6,
     "metadata": {},
     "output_type": "execute_result"
    },
    {
     "data": {
      "image/png": "[encoded data removed]",
      "text/plain": [
       "<Figure size 640x480 with 1 Axes>"
      ]
     },
     "metadata": {},
     "output_type": "display_data"
    }
   ],
   "source": [
    "import matplotlib.pyplot as plt\n",
    "plt.plot(loss_list)\n",
    "plt.title('Loss Curve')"
   ]
  },
  {
   "cell_type": "code",
   "execution_count": 7,
   "metadata": {},
   "outputs": [
    {
     "data": {
      "text/plain": [
       "tensor(8.5976, device='cuda:0', grad_fn=<MaxBackward1>)"
      ]
     },
     "execution_count": 7,
     "metadata": {},
     "output_type": "execute_result"
    }
   ],
   "source": [
    "torch.max(output[0])"
   ]
  },
  {
   "cell_type": "code",
   "execution_count": 10,
   "metadata": {},
   "outputs": [],
   "source": [
    "np.save('test.npy',np.round(torch.sigmoid(output[1,:,:,:].to('cpu').detach())))\n",
    "np.save('test_real.npy',np.round(torch.sigmoid(images[1,:,:,:].to('cpu').detach())))"
   ]
  },
  {
   "cell_type": "code",
   "execution_count": 11,
   "metadata": {},
   "outputs": [
    {
     "name": "stdout",
     "output_type": "stream",
     "text": [
      "torch.Size([100, 1, 20, 8]) torch.Size([100, 1, 4, 4]) torch.Size([100, 1, 4, 4]) torch.Size([100, 16]) torch.Size([100, 144])\n",
      "torch.Size([100, 144]) torch.Size([100, 1, 4, 4]) torch.Size([100, 1, 4, 4]) torch.Size([100, 1, 20, 8]) torch.Size([100, 3, 100, 104])\n"
     ]
    }
   ],
   "source": [
    "flatten = torch.nn.Flatten()\n",
    "a = torch.nn.Conv2d(3,1,kernel_size=(5,13),stride=(5,13))\n",
    "b = torch.nn.Conv2d(1,1,kernel_size=(5,2), stride=(5,2))\n",
    "c = torch.nn.Conv2d(1,1,kernel_size=(1,1), stride=(1,1))\n",
    "d = torch.nn.Linear(in_features=1*1*16, out_features=144)\n",
    "\n",
    "out_0 = a(dataset)\n",
    "#print(out_0.shape)\n",
    "out_1 = b(out_0)\n",
    "#print(out_1.shape)\n",
    "out_2 = c(out_1)\n",
    "#print(out_2.shape)\n",
    "flat_out_2 = flatten(out_2)\n",
    "#print(flat_out_2.shape)\n",
    "out_3 = d(flat_out_2)\n",
    "print(out_0.shape, out_1.shape, out_2.shape, flat_out_2.shape, out_3.shape)\n",
    "\n",
    "e = torch.nn.Linear(in_features=144, out_features=1*1*16)\n",
    "f = torch.nn.ConvTranspose2d(1,1,kernel_size=(1,1), stride=(1,1))\n",
    "g = torch.nn.ConvTranspose2d(1,1,kernel_size=(5,2), stride=(5,2))\n",
    "h = torch.nn.ConvTranspose2d(1,3,kernel_size=(5,13),stride=(5,13))\n",
    "\n",
    "up_0 = e(out_3)\n",
    "up_0 = torch.reshape(up_0,(-1,1,4,4))\n",
    "up_1 = f(up_0)\n",
    "up_2 = g(up_1)\n",
    "up_3 = h(up_2)\n",
    "print(out_3.shape, up_0.shape, up_1.shape, up_2.shape, up_3.shape)\n",
    "\n",
    "\n"
   ]
  },
  {
   "cell_type": "code",
   "execution_count": null,
   "metadata": {},
   "outputs": [],
   "source": [
    "import matplotlib.pyplot as plt\n",
    "plt.figure()\n",
    "plt.imshow(out_0[9,0,:,:].detach())\n",
    "plt.figure()\n",
    "plt.imshow(out_1[9,0,:,:].detach())\n",
    "plt.figure()\n",
    "plt.imshow(out_2[9,0,:,:].detach())\n",
    "plt.figure(figsize=(10,10))\n",
    "#plt.imshow(flat_out_2[0,:].detach())\n",
    "plt.imshow(out_3.detach())"
   ]
  },
  {
   "cell_type": "code",
   "execution_count": null,
   "metadata": {},
   "outputs": [],
   "source": [
    "plt.figure()\n",
    "plt.imshow(up_0[0,0,:,:].detach())\n",
    "plt.figure()\n",
    "plt.imshow(up_1[0,0,:,:].detach())\n",
    "plt.figure()\n",
    "plt.imshow(up_2[0,0,:,:].detach())\n",
    "plt.figure()\n",
    "plt.imshow(up_3[0,0,:,:].detach())"
   ]
  },
  {
   "cell_type": "code",
   "execution_count": null,
   "metadata": {},
   "outputs": [],
   "source": []
  }
 ],
 "metadata": {
  "kernelspec": {
   "display_name": "stocks",
   "language": "python",
   "name": "python3"
  },
  "language_info": {
   "codemirror_mode": {
    "name": "ipython",
    "version": 3
   },
   "file_extension": ".py",
   "mimetype": "text/x-python",
   "name": "python",
   "nbconvert_exporter": "python",
   "pygments_lexer": "ipython3",
   "version": "3.9.15"
  },
  "orig_nbformat": 4,
  "vscode": {
   "interpreter": {
    "hash": "ca4abe89e1d2bfac00b51db37bc3e765493fea8bd3429652b1d0755ba04be6f3"
   }
  }
 },
 "nbformat": 4,
 "nbformat_minor": 2
}
