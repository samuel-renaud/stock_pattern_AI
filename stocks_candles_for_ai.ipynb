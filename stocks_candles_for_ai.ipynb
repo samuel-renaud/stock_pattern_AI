{
 "cells": [
  {
   "cell_type": "code",
   "execution_count": null,
   "id": "61fb6baa",
   "metadata": {},
   "outputs": [],
   "source": [
    "%matplotlib inline"
   ]
  },
  {
   "cell_type": "code",
   "execution_count": null,
   "id": "ea4b4d79",
   "metadata": {},
   "outputs": [],
   "source": [
    "import pandas as pd\n",
    "# pretty printing of pandas dataframe\n",
    "pd.set_option('expand_frame_repr', False)\n",
    "pd.set_option(\"display.max_rows\", None, \"display.max_columns\", None)\n",
    "\n",
    "# There are 4 tables on the Wikipedia page\n",
    "# we want the last table\n",
    "\n",
    "payload=pd.read_html('https://en.wikipedia.org/wiki/Nasdaq-100')\n",
    "first_table  = payload[0]\n",
    "second_table = payload[1]\n",
    "third_table  = payload[2]\n",
    "fourth_table = payload[4]\n",
    "\n",
    "tickers = fourth_table\n",
    "tickers['Ticker'][0:5]"
   ]
  },
  {
   "cell_type": "code",
   "execution_count": null,
   "id": "beb537d8",
   "metadata": {},
   "outputs": [],
   "source": [
    "import mplfinance as mpf\n",
    "import yfinance as yf\n",
    "import numpy as np\n",
    "import matplotlib.pyplot as plt\n",
    "\n",
    "for i in range(len(tickers)):\n",
    "    ticker = yf.Ticker(tickers['Ticker'][i])\n",
    "\n",
    "    # Get the historical market data for the ticker\n",
    "    df = ticker.history(period=\"60d\", interval='5m') #start='2020-01-23', end='2020-02-23')\n",
    "\n",
    "    mini_window_size = 13*8 #day's 27 candles/2\n",
    "    total_window_size = len(df) #how many data points do you have so it knows where to stop (think full chart)\n",
    "\n",
    "    for ii in range(total_window_size-mini_window_size+1):\n",
    "        df_day = df.iloc[:, : 4]\n",
    "        candle_df = df_day[ii:mini_window_size+ii]\n",
    "        \n",
    "        #min max norm\n",
    "        min_price = candle_df.min().min()\n",
    "        max_price = candle_df.max().max()\n",
    "        range_price = max_price - min_price\n",
    "        # normalize the data\n",
    "        candle_df = (candle_df - min_price) / range_price\n",
    "\n",
    "        mul = 1000 #max pixles per candle\n",
    "        r = 5 #sig figs to round\n",
    "        step = 12 #steps between each candle\n",
    "        counter = list(range(0,len(candle_df)*step,step))\n",
    "\n",
    "        tails_channel = np.zeros((mul,len(counter)*step))\n",
    "        green_channel = np.zeros((mul,len(counter)*step))\n",
    "        red_channel   = np.zeros((mul,len(counter)*step))\n",
    "\n",
    "        color=1\n",
    "\n",
    "        for iii in range(len(counter)):\n",
    "            Low = int(round(candle_df['Low'][iii],r)*mul)\n",
    "            Close = int(round(candle_df['Close'][iii],r)*mul)\n",
    "            Open = int(round(candle_df['Open'][iii],r)*mul)\n",
    "            High = int(round(candle_df['High'][iii],r)*mul)\n",
    "\n",
    "            if  Close > Open: #Green candle\n",
    "                tails_channel[Low:Open,counter[iii]]   = color\n",
    "                green_channel[Open:Close,counter[iii]] = color\n",
    "                tails_channel[Close:High,counter[iii]] = color\n",
    "            else: #Red candle\n",
    "                tails_channel[Low:Close,counter[iii]] = color\n",
    "                red_channel[Close:Open,counter[iii]]  = color\n",
    "                tails_channel[Open:High,counter[iii]] = color\n",
    "        vic_name = (str(i)+'-'+str(ii))\n",
    "        Z = [np.flip(red_channel,axis=0), np.flip(green_channel,axis=0), np.flip(tails_channel,axis=0)]\n",
    "        np.save(vic_name,Z)\n",
    "#         print(i)\n",
    "#     plt.figure(figsize = (10,10)) # create a 10 x 10 figure \n",
    "#     im = plt.imshow(np.dstack(Z), interpolation='none', aspect='auto')"
   ]
  },
  {
   "cell_type": "code",
   "execution_count": null,
   "id": "40d20ce8",
   "metadata": {},
   "outputs": [],
   "source": []
  }
 ],
 "metadata": {
  "kernelspec": {
   "display_name": "Python 3 (ipykernel)",
   "language": "python",
   "name": "python3"
  },
  "language_info": {
   "codemirror_mode": {
    "name": "ipython",
    "version": 3
   },
   "file_extension": ".py",
   "mimetype": "text/x-python",
   "name": "python",
   "nbconvert_exporter": "python",
   "pygments_lexer": "ipython3",
   "version": "3.9.7"
  }
 },
 "nbformat": 4,
 "nbformat_minor": 5
}
